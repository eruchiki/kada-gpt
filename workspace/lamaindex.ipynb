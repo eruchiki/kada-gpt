{
 "cells": [
  {
   "cell_type": "markdown",
   "id": "03b98868-90a3-41fd-b545-66da34568d01",
   "metadata": {},
   "source": [
    "# Llama_Indexを試す"
   ]
  },
  {
   "cell_type": "code",
   "execution_count": 1,
   "id": "e29365fa-f644-4b99-860a-40fce2cd853b",
   "metadata": {},
   "outputs": [
    {
     "data": {
      "text/plain": [
       "'0.8.24.post1'"
      ]
     },
     "execution_count": 1,
     "metadata": {},
     "output_type": "execute_result"
    }
   ],
   "source": [
    "import llama_index\n",
    "llama_index.__version__"
   ]
  },
  {
   "cell_type": "markdown",
   "id": "60af1965-158b-4374-8723-0845674311a0",
   "metadata": {},
   "source": [
    "## PDFを読み込む\n",
    "- 読み込み可能なアプリケーション\n",
    "  - dvipdfmx\n",
    "  - word\n",
    "- 読み込みがうまくかないアプリケーション\n",
    "  - Adobe\n",
    "  - iText\n",
    "\n",
    "- 使用データ\n",
    "  - [STクラウドサーバーサービス契約約款](https://www.stnet.co.jp/cmmn/data/stcloud.pdf)\n",
    "  - [インターネットセキュリティサービス契約約款\n",
    "(https://www.stnet.co.jp/cmmn/data/inet.pdf)\n",
    "  - [ビジネス光ネットサービス契約約款](https://www.stnet.co.jp/cmmn/data/oshigotonet.pdf)]"
   ]
  },
  {
   "cell_type": "code",
   "execution_count": 2,
   "id": "24b79959-f00a-4899-9289-cd58b208fe15",
   "metadata": {
    "scrolled": true
   },
   "outputs": [
    {
     "name": "stdout",
     "output_type": "stream",
     "text": [
      "Collecting pdfminer.six (from -r /usr/local/lib/python3.11/site-packages/llama_index/readers/llamahub_modules/file/cjk_pdf/requirements.txt (line 1))\n",
      "  Downloading pdfminer.six-20221105-py3-none-any.whl (5.6 MB)\n",
      "\u001b[2K     \u001b[90m━━━━━━━━━━━━━━━━━━━━━━━━━━━━━━━━━━━━━━━━\u001b[0m \u001b[32m5.6/5.6 MB\u001b[0m \u001b[31m18.6 MB/s\u001b[0m eta \u001b[36m0:00:00\u001b[0ma \u001b[36m0:00:01\u001b[0m\n",
      "\u001b[?25hRequirement already satisfied: charset-normalizer>=2.0.0 in /usr/local/lib/python3.11/site-packages (from pdfminer.six->-r /usr/local/lib/python3.11/site-packages/llama_index/readers/llamahub_modules/file/cjk_pdf/requirements.txt (line 1)) (3.2.0)\n",
      "Collecting cryptography>=36.0.0 (from pdfminer.six->-r /usr/local/lib/python3.11/site-packages/llama_index/readers/llamahub_modules/file/cjk_pdf/requirements.txt (line 1))\n",
      "  Obtaining dependency information for cryptography>=36.0.0 from https://files.pythonhosted.org/packages/46/74/f9eba8c947f57991b5dd5e45797fdc68cc70e444c32e6b952b512d42aba5/cryptography-41.0.3-cp37-abi3-manylinux_2_28_x86_64.whl.metadata\n",
      "  Downloading cryptography-41.0.3-cp37-abi3-manylinux_2_28_x86_64.whl.metadata (5.2 kB)\n",
      "Requirement already satisfied: cffi>=1.12 in /usr/local/lib/python3.11/site-packages (from cryptography>=36.0.0->pdfminer.six->-r /usr/local/lib/python3.11/site-packages/llama_index/readers/llamahub_modules/file/cjk_pdf/requirements.txt (line 1)) (1.15.1)\n",
      "Requirement already satisfied: pycparser in /usr/local/lib/python3.11/site-packages (from cffi>=1.12->cryptography>=36.0.0->pdfminer.six->-r /usr/local/lib/python3.11/site-packages/llama_index/readers/llamahub_modules/file/cjk_pdf/requirements.txt (line 1)) (2.21)\n",
      "Downloading cryptography-41.0.3-cp37-abi3-manylinux_2_28_x86_64.whl (4.3 MB)\n",
      "\u001b[2K   \u001b[90m━━━━━━━━━━━━━━━━━━━━━━━━━━━━━━━━━━━━━━━━\u001b[0m \u001b[32m4.3/4.3 MB\u001b[0m \u001b[31m15.6 MB/s\u001b[0m eta \u001b[36m0:00:00\u001b[0m00:01\u001b[0m00:01\u001b[0m\n",
      "\u001b[?25hInstalling collected packages: cryptography, pdfminer.six\n",
      "Successfully installed cryptography-41.0.3 pdfminer.six-20221105\n"
     ]
    },
    {
     "name": "stderr",
     "output_type": "stream",
     "text": [
      "\u001b[33mWARNING: Running pip as the 'root' user can result in broken permissions and conflicting behaviour with the system package manager. It is recommended to use a virtual environment instead: https://pip.pypa.io/warnings/venv\u001b[0m\u001b[33m\n",
      "\u001b[0m"
     ]
    },
    {
     "name": "stdout",
     "output_type": "stream",
     "text": [
      "1\n"
     ]
    }
   ],
   "source": [
    "# from llama_index import GPTVectorStoreIndex, SimpleDirectoryReader\n",
    "from llama_index import download_loader\n",
    "\n",
    "CJKPDFReader = download_loader(\"CJKPDFReader\")\n",
    "loader = CJKPDFReader()\n",
    "documents = loader.load_data(file=\"pdf_data/data_0.pdf\")\n",
    "print(len(documents))"
   ]
  },
  {
   "cell_type": "code",
   "execution_count": 4,
   "id": "88e4576d-4347-4902-a136-4a80ff1b9b72",
   "metadata": {},
   "outputs": [],
   "source": [
    "with open(\"./pdf_to_text/pdf_to_text_0.txt\",encoding=\"utf-8\",mode=\"w\") as f:\n",
    "    f.write(documents[0].text) "
   ]
  },
  {
   "cell_type": "code",
   "execution_count": 5,
   "id": "7b47a701-8b03-47b0-b07a-49052b351b81",
   "metadata": {},
   "outputs": [
    {
     "data": {
      "text/plain": [
       "dict_keys(['id_', 'embedding', 'metadata', 'excluded_embed_metadata_keys', 'excluded_llm_metadata_keys', 'relationships', 'hash', 'text', 'start_char_idx', 'end_char_idx', 'text_template', 'metadata_template', 'metadata_seperator', 'class_name'])"
      ]
     },
     "execution_count": 5,
     "metadata": {},
     "output_type": "execute_result"
    }
   ],
   "source": [
    "documents[0].to_dict().keys()"
   ]
  },
  {
   "cell_type": "code",
   "execution_count": 6,
   "id": "007a04a7-e9eb-4efc-9371-9fc151c290c8",
   "metadata": {},
   "outputs": [],
   "source": [
    "text_data = documents[0].text.split(\"\\n\\n\")\n",
    "text_data = [text.replace(\"\\n\",\"\") for text in text_data] "
   ]
  },
  {
   "cell_type": "code",
   "execution_count": 7,
   "id": "8c8218e2-f69a-4a88-873e-7da9550a1ce1",
   "metadata": {},
   "outputs": [
    {
     "data": {
      "text/plain": [
       "1776"
      ]
     },
     "execution_count": 7,
     "metadata": {},
     "output_type": "execute_result"
    }
   ],
   "source": [
    "len(text_data)"
   ]
  },
  {
   "cell_type": "code",
   "execution_count": 8,
   "id": "bc89343c-9001-4650-8e73-294fbff0d8c0",
   "metadata": {},
   "outputs": [
    {
     "data": {
      "text/plain": [
       "'ＳＴクラウドサーバーサービス契約約款 \\n\\n２０２３年５月１５日 \\n\\n株式会社 ＳＴＮｅｔ \\n\\n \\n \\n \\n \\n \\n \\n \\n \\n \\n \\n \\n \\n \\n \\n \\n \\n \\n \\n \\n \\n \\n \\n \\n \\n \\n \\n \\n \\n \\n \\n \\n \\n \\n \\n \\n \\n \\n\\x0c\\n目    次 \\n\\n第１章  総則 \\n\\n第  １条  約款の適用・・・・・・・・・・・・・・・・・・・・・・・・・・・１ \\n第  ２条  約款の変更・・・・'"
      ]
     },
     "execution_count": 8,
     "metadata": {},
     "output_type": "execute_result"
    }
   ],
   "source": [
    "documents[0].text[:200]"
   ]
  },
  {
   "cell_type": "markdown",
   "id": "9bfae875-3469-446d-afb9-1c5693c503e5",
   "metadata": {},
   "source": [
    "## Qdrantの設定"
   ]
  },
  {
   "cell_type": "code",
   "execution_count": 3,
   "id": "a1cfd49b-32d1-4d5a-9dd2-8d8ccab10e8f",
   "metadata": {},
   "outputs": [
    {
     "ename": "NameError",
     "evalue": "name 'QdrantVectorStore' is not defined",
     "output_type": "error",
     "traceback": [
      "\u001b[0;31m---------------------------------------------------------------------------\u001b[0m",
      "\u001b[0;31mNameError\u001b[0m                                 Traceback (most recent call last)",
      "Cell \u001b[0;32mIn[3], line 10\u001b[0m\n\u001b[1;32m      7\u001b[0m logging\u001b[38;5;241m.\u001b[39mbasicConfig(stream\u001b[38;5;241m=\u001b[39msys\u001b[38;5;241m.\u001b[39mstdout, level\u001b[38;5;241m=\u001b[39mlogging\u001b[38;5;241m.\u001b[39mINFO)\n\u001b[1;32m      8\u001b[0m logging\u001b[38;5;241m.\u001b[39mgetLogger()\u001b[38;5;241m.\u001b[39maddHandler(logging\u001b[38;5;241m.\u001b[39mStreamHandler(stream\u001b[38;5;241m=\u001b[39msys\u001b[38;5;241m.\u001b[39mstdout))\n\u001b[0;32m---> 10\u001b[0m vector_store \u001b[38;5;241m=\u001b[39m \u001b[43mQdrantVectorStore\u001b[49m(client\u001b[38;5;241m=\u001b[39mclient, collection_name\u001b[38;5;241m=\u001b[39m\u001b[38;5;124m\"\u001b[39m\u001b[38;5;124m\"\u001b[39m)\n\u001b[1;32m     11\u001b[0m storage_context \u001b[38;5;241m=\u001b[39m StorageContext\u001b[38;5;241m.\u001b[39mfrom_defaults(vector_store\u001b[38;5;241m=\u001b[39mvector_store)\n",
      "\u001b[0;31mNameError\u001b[0m: name 'QdrantVectorStore' is not defined"
     ]
    }
   ],
   "source": [
    "import qdrant_client\n",
    "import logging\n",
    "from llama_index.storage.storage_context import StorageContext\n",
    "import sys\n",
    "\n",
    "client = qdrant_client.QdrantClient(host='qdrant', port=6333)\n",
    "logging.basicConfig(stream=sys.stdout, level=logging.INFO)\n",
    "logging.getLogger().addHandler(logging.StreamHandler(stream=sys.stdout))\n",
    "\n",
    "vector_store = QdrantVectorStore(client=client, collection_name=\"\")\n",
    "storage_context = StorageContext.from_defaults(vector_store=vector_store)"
   ]
  },
  {
   "cell_type": "markdown",
   "id": "730eead1-642c-4ac9-ac99-c227128dbb50",
   "metadata": {},
   "source": [
    "## ベクトル化\n",
    "### note\n",
    "- 文分割は読点等のsplit程度\n",
    "- データごとに処理が必要"
   ]
  },
  {
   "cell_type": "code",
   "execution_count": 9,
   "id": "1b8810ad-8513-44b7-9b96-db07ba4ccbb9",
   "metadata": {},
   "outputs": [],
   "source": [
    "paragraph_separator = \"\\n\\n\" # 段落分割\n",
    "chunk_size = 1024 #チャンク（トークン）数\n",
    "chunk_overlap = 20 # 前のチャンクをどのくらい含めるか\n",
    "secondary_chunking_regex = '[^,.．;。]+[,.．;。]?'# 文分割"
   ]
  },
  {
   "cell_type": "code",
   "execution_count": 10,
   "id": "4c1a3193-13c0-4590-a823-89ef7a987523",
   "metadata": {},
   "outputs": [
    {
     "name": "stderr",
     "output_type": "stream",
     "text": [
      "[nltk_data] Downloading package punkt to /tmp/llama_index...\n",
      "[nltk_data]   Unzipping tokenizers/punkt.zip.\n"
     ]
    },
    {
     "data": {
      "text/plain": [
       "SimpleNodeParser(text_splitter=SentenceSplitter(chunk_size=1024, chunk_overlap=20, separator=' ', paragraph_separator='\\n\\n', secondary_chunking_regex='[^,.．;。]+[,.．;。]?', chunking_tokenizer_fn=<function sent_tokenize at 0x7ff0579eee80>, callback_manager=<llama_index.callbacks.base.CallbackManager object at 0x7ff08c250f50>, tokenizer=functools.partial(<bound method Encoding.encode of <Encoding 'gpt2'>>, allowed_special='all')), include_metadata=True, include_prev_next_rel=True, metadata_extractor=None, callback_manager=<llama_index.callbacks.base.CallbackManager object at 0x7ff056b6ecd0>)"
      ]
     },
     "execution_count": 10,
     "metadata": {},
     "output_type": "execute_result"
    }
   ],
   "source": [
    "from llama_index.text_splitter import SentenceSplitter\n",
    "from llama_index.node_parser import SimpleNodeParser\n",
    "from llama_index import VectorStoreIndex,ServiceContext\n",
    "import tiktoken\n",
    "\n",
    "# ノードパーサーの準備\n",
    "text_splitter = SentenceSplitter(\n",
    "    paragraph_separator=paragraph_separator,\n",
    "    secondary_chunking_regex = secondary_chunking_regex,\n",
    "    chunk_size = chunk_size,\n",
    "    chunk_overlap = chunk_overlap,\n",
    ")\n",
    "node_parser = SimpleNodeParser.from_defaults(\n",
    "    text_splitter=text_splitter\n",
    ")\n",
    "service_context = ServiceContext.from_defaults(\n",
    "    node_parser=node_parser\n",
    ")\n",
    "service_context.node_parser"
   ]
  },
  {
   "cell_type": "code",
   "execution_count": 11,
   "id": "46cc018f-ace7-4e41-8e68-7384dd2bcc01",
   "metadata": {},
   "outputs": [
    {
     "name": "stdout",
     "output_type": "stream",
     "text": [
      "108\n",
      "1002\n",
      "725\n",
      "ＳＴクラウドサーバーサービス契約約款 ２０２３年５月１５日 株式会社 ＳＴＮｅｔ                                      \f",
      "目    次 第１章  総則 第  １条  約款の適用・・・・・・・・・・・・・・・・・・・・・・・・・・・１ 第  ２条  約款の変更・・・・・・・・・・・・・・・・・・・・・・・・・・・１ 第  ３条  用語の定義・・・・・・・・・・・・・・・・・・・・・・・・・・・１ 第２章  ＳＴクラウドサーバーサービスの提供区域 第  ４条  ＳＴクラウドサーバーサービスの提供区域・・・・・・・・・・・・・２ 第３章  契約 第  ５条  契約の単位・・・・・・・・・・・・・・・・・・・・・・・・・・・２ 第  ６条  ＳＴクラウドサーバー契約申込の方法・・・・・・・・・・・・・・・２ 第  ７条  ＳＴクラウドサーバー契約申込の承諾・・・・・・・・・・・・・・・２ 第  ８条  最低利用期間・・・・・・・・・・・・・・・・・・・・・・・・・・２ 第  ９条  ＳＴクラウドサーバー契約内容の変更・・・・・・・・・・・・・・・２ 第１０条  サービス利用権の譲渡禁止・・・・・・・・・・・・・・・・・・・・３ 第１１条  ＳＴクラウドサーバー契約者が行うＳＴクラウドサーバー契約の解除・３ 第１２条  当社が行うＳＴクラウドサーバー契約の解除・・・・・・・・・・・・３     第１３条  その他の提供条件・・・・・・・・・・・・・・・・・・・・・・・・３\n"
     ]
    }
   ],
   "source": [
    "node_list = service_context.node_parser.get_nodes_from_documents(documents)\n",
    "enc = tiktoken.get_encoding(\"gpt2\")\n",
    "print(len(node_list))\n",
    "for node in node_list:\n",
    "    print(len(enc.encode(node.text)))\n",
    "    print(len(node.text))\n",
    "    print(node.text.replace(\"\\n\",\"\"))\n",
    "    break"
   ]
  },
  {
   "cell_type": "code",
   "execution_count": null,
   "id": "7c854de5-7f4f-4638-b1ed-1f19f3bf1f39",
   "metadata": {},
   "outputs": [],
   "source": [
    "index = VectorStoreIndex.from_documents(documents=documents,vector_store=vector_store,service_context=service_context)"
   ]
  },
  {
   "cell_type": "code",
   "execution_count": null,
   "id": "33e9863d-bff8-48f4-bd19-6f1d414c4595",
   "metadata": {},
   "outputs": [],
   "source": []
  }
 ],
 "metadata": {
  "kernelspec": {
   "display_name": "Python 3 (ipykernel)",
   "language": "python",
   "name": "python3"
  },
  "language_info": {
   "codemirror_mode": {
    "name": "ipython",
    "version": 3
   },
   "file_extension": ".py",
   "mimetype": "text/x-python",
   "name": "python",
   "nbconvert_exporter": "python",
   "pygments_lexer": "ipython3",
   "version": "3.11.5"
  }
 },
 "nbformat": 4,
 "nbformat_minor": 5
}
