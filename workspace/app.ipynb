{
 "cells": [
  {
   "cell_type": "code",
   "execution_count": 1,
   "id": "eca51c9d-a725-4258-bf75-aa9fa5fe8938",
   "metadata": {},
   "outputs": [],
   "source": [
    "from langchain import OpenAI, LLMChain\n",
    "from langchain.vectorstores import Qdrant\n",
    "from langchain.embeddings import OpenAIEmbeddings\n",
    "from langchain.prompts import PromptTemplate\n",
    "import os\n",
    "import uuid\n",
    "import openai\n",
    "from langchain.chat_models import ChatOpenAI\n",
    "COLLECTION_NAME = \"DocumentsDB_Langchain\"\n",
    "openai.api_key = os.environ[\"OPENAI_API_KEY\"]\n",
    "llm=OpenAI()"
   ]
  },
  {
   "cell_type": "markdown",
   "id": "ebd8410d-999c-44ef-9462-b23bf2c5d5d4",
   "metadata": {},
   "source": [
    "## Qdrantに接続"
   ]
  },
  {
   "cell_type": "code",
   "execution_count": 46,
   "id": "9cd96938-4786-4635-b064-affa02243ed8",
   "metadata": {},
   "outputs": [
    {
     "name": "stdout",
     "output_type": "stream",
     "text": [
      "Connection successful: <qdrant_client.qdrant_client.QdrantClient object at 0x7f26dd005ad0>\n"
     ]
    }
   ],
   "source": [
    "from qdrant_client import QdrantClient,models\n",
    "from langchain.embeddings import OpenAIEmbeddings\n",
    "from langchain.vectorstores import Qdrant\n",
    "\n",
    "client = QdrantClient(host='qdrant', port=6333)\n",
    "embeddings = OpenAIEmbeddings()\n",
    "print(\"Connection successful:\", connection)\n",
    "\n",
    "db = Qdrant(\n",
    "    client=client, collection_name=COLLECTION_NAME, \n",
    "    embeddings=embeddings\n",
    ")\n"
   ]
  },
  {
   "cell_type": "markdown",
   "id": "3d49d6b0-7108-479b-83bd-5c1511f267e9",
   "metadata": {},
   "source": [
    "## 関連情報探索"
   ]
  },
  {
   "cell_type": "code",
   "execution_count": 52,
   "id": "2a8aa4f0-91fd-4232-a734-9fc9ea7e0c31",
   "metadata": {},
   "outputs": [
    {
     "name": "stdout",
     "output_type": "stream",
     "text": [
      "(注)業務の遂行上必要な範囲での利用には、光ネットサービス契約者に係る情報を当社の業務を委託している者に提供する場合を含みます。\n",
      "4当社が別に定める光ネットサービス当社は、下記の契約約款に定める光ネットサービスを当社が別に定める光ネットサービスとして扱います。\n",
      "2前項の確認に際して、光ネットサービス契約者から請求があったときは、当社は、光ネットサービス取扱局において試験を行い、その結果を光ネットサービス契約者に通知します。\n",
      "3光ネットサービス契約者は、前2項に規定する接続について、第1項の書面に記載した事項を変更しようとするときは、当社所定の書面によりその変更の請求をしていただきます。この場合、当社は、前項の規定に準じて取り扱います。\n",
      "第1章総則(約款の適用)第1条当社は、このビジネス光ネットサービス契約約款(料金表を含みます。以下「約款」といいます。)を定め、これにより光ネットサービス(当社がこの約款以外の契約約款及び料金表を定め、それにより提供するものを除きます。)を提供します。\n",
      "2当社は、当社が指定する光ネットサービス取扱所において、光ネットサービスを利用する上で参考となる、別記13に定める事項を記載した技術資料を閲覧に供します。\n",
      "(品目及び種別等の変更)第14条光ネットサービス契約者は、当社に対し、当社が別に定めるところにより光ネットサービスの品目及び種別等の変更を請求することができます。\n",
      "4光ネットサービス契約者は、第1項及び第2項に規定する接続を廃止しようとするときは、あらかじめ書面により光ネットサービス取扱所に通知していただきます。\n",
      "区分内容(1)事務手数料等に係る料金の適用ア光ネットサービス契約の申込みをし、その承諾を受けたときに契約事務手数料を適用します。\n",
      "2前項の場合において、当社は譲り受けた債権を当社が提供する光ネットサービスの料金とみなして取り扱います。\n"
     ]
    }
   ],
   "source": [
    "query = \"ビジネス光ネットサービスの契約概要について教えて\"\n",
    "docs = db.similarity_search(query=query,k=10)\n",
    "for d in docs:\n",
    "    print(d.page_content)\n",
    "# related_info = retriever.get_relevant_documents(query=query)"
   ]
  },
  {
   "cell_type": "code",
   "execution_count": null,
   "id": "3385879d",
   "metadata": {},
   "outputs": [],
   "source": [
    "def relate_search(k=3,filter=None):\n",
    "    docs = db.similarity_search(query=query,k=10,filter=None)\n",
    "    return [d.page_content for d in docs]"
   ]
  },
  {
   "cell_type": "markdown",
   "id": "19c64369-d7d5-498f-8411-175bcb1024a1",
   "metadata": {},
   "source": [
    "## memoryの実装\n",
    "- ConversationBufferWindowMemory  \n",
    " 直前数回のやり取りをプロンプトに入れる\n",
    "- VectorStore-Backed Memory  \n",
    "  プロンプトをベクトル化し、近いやり取りを埋め込む"
   ]
  },
  {
   "cell_type": "code",
   "execution_count": null,
   "id": "90cd7f37-b198-443b-a314-fd277850c6bf",
   "metadata": {},
   "outputs": [],
   "source": [
    "from langchain.embeddings.openai import OpenAIEmbeddings\n",
    "from langchain.llms import OpenAI\n",
    "from langchain.memory import ConversationBufferWindowMemory,VectorStoreRetrieverMemory\n",
    "from langchain.schema import messages_from_dict, messages_to_dict\n",
    "from langchain import LLMChain"
   ]
  },
  {
   "cell_type": "code",
   "execution_count": null,
   "id": "10f82746-31df-45ae-abf3-a6f05ae677dc",
   "metadata": {},
   "outputs": [],
   "source": [
    "memory=ConversationBufferWindowMemory(k=3)\n",
    "def save_memory(memory,query,response):\n",
    "    memory.chat_memory.add_user_message(query)\n",
    "    memory.chat_memory.add_ai_message(response)"
   ]
  },
  {
   "cell_type": "markdown",
   "id": "235eab91-0639-4dae-883c-b043424d7315",
   "metadata": {},
   "source": [
    "## promptTemplate作成"
   ]
  },
  {
   "cell_type": "code",
   "execution_count": null,
   "id": "3d1f0657-b0c4-4156-8b22-97eeb3fd30e5",
   "metadata": {},
   "outputs": [],
   "source": [
    "template = \"\"\"\n",
    "{chat_history}\n",
    "質問：{query}以下の関連情報をもとに答えてください。\n",
    "関連情報\n",
    "1.{relate_info1}\n",
    "2.{relate_info2}\n",
    "3.{relate_info3}\n",
    "\"\"\""
   ]
  },
  {
   "cell_type": "code",
   "execution_count": 13,
   "id": "3e54123d",
   "metadata": {},
   "outputs": [
    {
     "name": "stdout",
     "output_type": "stream",
     "text": [
      "\n",
      "質問：a\n",
      "関連情報\n",
      "1.b\n",
      "2.b\n",
      "\n"
     ]
    }
   ],
   "source": [
    "def create_template(relate_info):\n",
    "    input_val = [\"chat_history\",\"query\"]\n",
    "    template = \"{chat_history}\\n質問：{query}\\n関連情報\\n\"\n",
    "    for i,info in enumerate(relate_info):\n",
    "        template += f\"{i+1}.{info}\\n\"\n",
    "    return PromptTemplate(input_variables=input_val,template=template)\n",
    "\n",
    "template = create_template([\"b\",\"b\"])\n",
    "prompt = template.format(chat_history=\"\",query=\"a\")\n",
    "print(prompt)"
   ]
  },
  {
   "cell_type": "markdown",
   "id": "6d5493f4",
   "metadata": {},
   "source": [
    "## 対話"
   ]
  },
  {
   "cell_type": "code",
   "execution_count": null,
   "id": "66c3b188",
   "metadata": {},
   "outputs": [],
   "source": [
    "def chat(query):\n",
    "    related_data = relate_search(query,k=10)\n",
    "    template = create_template(related_data)\n",
    "    memory = ConversationBufferWindowMemory(memory_key=\"chat_history\",k=3)\n",
    "    llm_chain = LLMChain(\n",
    "    llm=OpenAI(),\n",
    "    prompt=prompt,\n",
    "    memory=memory,\n",
    "    verbose=True,\n",
    "    )"
   ]
  }
 ],
 "metadata": {
  "kernelspec": {
   "display_name": "Python 3 (ipykernel)",
   "language": "python",
   "name": "python3"
  },
  "language_info": {
   "codemirror_mode": {
    "name": "ipython",
    "version": 3
   },
   "file_extension": ".py",
   "mimetype": "text/x-python",
   "name": "python",
   "nbconvert_exporter": "python",
   "pygments_lexer": "ipython3",
   "version": "3.11.5"
  }
 },
 "nbformat": 4,
 "nbformat_minor": 5
}
