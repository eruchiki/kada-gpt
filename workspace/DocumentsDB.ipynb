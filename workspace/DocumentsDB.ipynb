{
 "cells": [
  {
   "cell_type": "code",
   "execution_count": 1,
   "id": "2ff4c929-108f-4182-9ea2-c5a0aeb82ecf",
   "metadata": {},
   "outputs": [],
   "source": [
    "import os\n",
    "import uuid"
   ]
  },
  {
   "cell_type": "markdown",
   "id": "7ea33402-b912-4f8b-bc51-75ff7b9ec411",
   "metadata": {},
   "source": [
    "## PDF読み込み"
   ]
  },
  {
   "cell_type": "code",
   "execution_count": 2,
   "id": "645917df-72c2-4382-811f-c79f0acbdf50",
   "metadata": {},
   "outputs": [],
   "source": [
    "import fitz # pymupdfライブラリ"
   ]
  },
  {
   "cell_type": "code",
   "execution_count": 42,
   "id": "586218bd-0bc0-4525-8f1d-deea8ca5c5d2",
   "metadata": {},
   "outputs": [],
   "source": [
    "def pdf_reader(file_path,output_dir):\n",
    "    doc = fitz.open(filename)\n",
    "    for page in range(len(doc)):\n",
    "        page_data = doc[page]\n",
    "        text = page_data.get_text()\n",
    "        table_data = page_data.find_tables()\n",
    "        if len(table_data.tables) > 0:\n",
    "            table_text = \"\"\n",
    "            for tbl in table_data:\n",
    "                for t in tbl.extract():\n",
    "                    if None in t:\n",
    "                        t = [_t for _t in t if _t != None]\n",
    "                    table_text += \":\".join(t).replace(\"\\n\",\"\") + \"\\n\"\n",
    "                table_text += \"\\n\"\n",
    "            with open(f\"{output_dir}/table_{page}.txt\",mode=\"w\",encoding=\"utf-8\") as f:\n",
    "                f.write(table_text)\n",
    "        with open(f\"{output_dir}/{page}.txt\",mode=\"w\",encoding=\"utf-8\") as f:\n",
    "            f.write(text)\n",
    "\n",
    "filename = 'pdf_data/data_0.pdf'\n",
    "output_dir = 'pdf_to_text/data0'\n",
    "pdf_reader(filename,output_dir)"
   ]
  },
  {
   "cell_type": "markdown",
   "id": "864fbbbd-594e-4f86-a306-a7bc30b22c35",
   "metadata": {},
   "source": [
    "## 前処理"
   ]
  },
  {
   "cell_type": "code",
   "execution_count": 43,
   "id": "fd38e5a4-bd67-49da-91be-9ee01924ab76",
   "metadata": {},
   "outputs": [],
   "source": [
    "import re\n",
    "from unicodedata import normalize\n",
    "from glob import glob"
   ]
  },
  {
   "cell_type": "code",
   "execution_count": 47,
   "id": "eeab666d-2536-40c2-b9da-764495912fef",
   "metadata": {},
   "outputs": [],
   "source": [
    "def concat_pages(dir_path,skip_page=[]):\n",
    "    text_data = \"\"\n",
    "    for page in range(len(glob(f\"{dir_path}/[0-9]*.txt\"))):\n",
    "        if page not in skip_page:\n",
    "            with open(f\"{dir_path}/{page}.txt\",mode=\"r\",encoding=\"utf-8\") as f:\n",
    "                page_data = f.read()\n",
    "                text_data += page_data+\"\\n\"\n",
    "    return text_data\n",
    "        \n",
    "def normalize_text(text_data,remove_str=r\"\\u3000\"):\n",
    "    clean_text = normalize('NFKC', text_data)\n",
    "    clean_text = re.sub(remove_str, r'', clean_text)\n",
    "    return clean_text\n",
    "\n",
    "def skip_text(text_data,skip_pattern):\n",
    "    text_list = text_data.split(\"\\n\")\n",
    "    result = []\n",
    "    for text in text_list:\n",
    "        text = text.replace(\"\\n\",\"\")\n",
    "        if text == \"\" or re.fullmatch(skip_pattern,text):\n",
    "            continue\n",
    "        else:\n",
    "            result.append(text)\n",
    "    return \"\\n\".join(result)\n",
    "\n",
    "def split_text(text_data,pattern):\n",
    "    text_list = text_data.split(\"\\n\")\n",
    "    result = []\n",
    "    for text in text_list:\n",
    "        if re.match(pattern,text):\n",
    "            result.append(\"\\n\\n\"+text)\n",
    "        else:\n",
    "            result.append(text)\n",
    "    return \"\".join(result)\n",
    "    \n",
    "def sentence_split(text_data,split_str=\"。\"):\n",
    "    text_list = text_data.split(\"\\n\")\n",
    "    result = []\n",
    "    for text in text_list:\n",
    "        if text[-1]==split_str:\n",
    "            result.append(text+\"\\n\")\n",
    "        else:\n",
    "            result.append(text)\n",
    "    return \"\".join(result)"
   ]
  },
  {
   "cell_type": "code",
   "execution_count": 48,
   "id": "8d4ff16a-6064-4a05-85ee-906d2d54bc0d",
   "metadata": {
    "scrolled": true
   },
   "outputs": [],
   "source": [
    "skip_page = [0,1,2,3,21,29,46,48]\n",
    "concat_data = concat_pages(\"./pdf_to_text/data0\",skip_page)\n",
    "clean_data = normalize_text(concat_data,remove_str=\"[\\u3000 ]\")\n",
    "clean_data = sentence_split(skip_text(clean_data,skip_pattern=r\"^\\d+\"))\n",
    "# split_text = split_text(clean_data,pattern=r\"^第[0-9]+章\")"
   ]
  },
  {
   "cell_type": "code",
   "execution_count": 54,
   "id": "d13494ef-7c0e-498c-9a3b-1e5934250397",
   "metadata": {},
   "outputs": [
    {
     "data": {
      "text/plain": [
       "922"
      ]
     },
     "execution_count": 54,
     "metadata": {},
     "output_type": "execute_result"
    }
   ],
   "source": [
    "len(clean_data.split(\"\\n\"))"
   ]
  },
  {
   "cell_type": "markdown",
   "id": "239e2f30-fbf4-417a-ac4a-d6d181ba146e",
   "metadata": {},
   "source": [
    "## Qdrantに接続& ベクトル化"
   ]
  },
  {
   "cell_type": "code",
   "execution_count": 93,
   "id": "ca1096dd-c46a-489a-a025-9b1b17838b8e",
   "metadata": {},
   "outputs": [],
   "source": [
    "paragraph_separator = \"\\n\\n\" # 段落分割\n",
    "chunk_size = 1024 #チャンク（トークン）数\n",
    "chunk_overlap = 20 # 前のチャンクをどのくらい含めるか\n",
    "secondary_chunking_regex = '[^,.．;。]+[,.．;。]?'# 文分割"
   ]
  },
  {
   "cell_type": "code",
   "execution_count": 95,
   "id": "a8d4f437-6f6f-4fa4-b3a1-44d01c59e4db",
   "metadata": {},
   "outputs": [
    {
     "name": "stdout",
     "output_type": "stream",
     "text": [
      "INFO:httpx:HTTP Request: GET http://qdrant:6333/collections/DocumentsDB_Langchain \"HTTP/1.1 404 Not Found\"\n",
      "HTTP Request: GET http://qdrant:6333/collections/DocumentsDB_Langchain \"HTTP/1.1 404 Not Found\"\n",
      "HTTP Request: GET http://qdrant:6333/collections/DocumentsDB_Langchain \"HTTP/1.1 404 Not Found\"\n",
      "HTTP Request: GET http://qdrant:6333/collections/DocumentsDB_Langchain \"HTTP/1.1 404 Not Found\"\n",
      "HTTP Request: GET http://qdrant:6333/collections/DocumentsDB_Langchain \"HTTP/1.1 404 Not Found\"\n",
      "INFO:httpx:HTTP Request: DELETE http://qdrant:6333/collections/DocumentsDB_Langchain \"HTTP/1.1 200 OK\"\n",
      "HTTP Request: DELETE http://qdrant:6333/collections/DocumentsDB_Langchain \"HTTP/1.1 200 OK\"\n",
      "HTTP Request: DELETE http://qdrant:6333/collections/DocumentsDB_Langchain \"HTTP/1.1 200 OK\"\n",
      "HTTP Request: DELETE http://qdrant:6333/collections/DocumentsDB_Langchain \"HTTP/1.1 200 OK\"\n",
      "HTTP Request: DELETE http://qdrant:6333/collections/DocumentsDB_Langchain \"HTTP/1.1 200 OK\"\n",
      "INFO:httpx:HTTP Request: PUT http://qdrant:6333/collections/DocumentsDB_Langchain \"HTTP/1.1 200 OK\"\n",
      "HTTP Request: PUT http://qdrant:6333/collections/DocumentsDB_Langchain \"HTTP/1.1 200 OK\"\n",
      "HTTP Request: PUT http://qdrant:6333/collections/DocumentsDB_Langchain \"HTTP/1.1 200 OK\"\n",
      "HTTP Request: PUT http://qdrant:6333/collections/DocumentsDB_Langchain \"HTTP/1.1 200 OK\"\n",
      "HTTP Request: PUT http://qdrant:6333/collections/DocumentsDB_Langchain \"HTTP/1.1 200 OK\"\n",
      "INFO:httpx:HTTP Request: PUT http://qdrant:6333/collections/DocumentsDB_Langchain/points?wait=true \"HTTP/1.1 200 OK\"\n",
      "HTTP Request: PUT http://qdrant:6333/collections/DocumentsDB_Langchain/points?wait=true \"HTTP/1.1 200 OK\"\n",
      "HTTP Request: PUT http://qdrant:6333/collections/DocumentsDB_Langchain/points?wait=true \"HTTP/1.1 200 OK\"\n",
      "HTTP Request: PUT http://qdrant:6333/collections/DocumentsDB_Langchain/points?wait=true \"HTTP/1.1 200 OK\"\n",
      "HTTP Request: PUT http://qdrant:6333/collections/DocumentsDB_Langchain/points?wait=true \"HTTP/1.1 200 OK\"\n",
      "INFO:httpx:HTTP Request: PUT http://qdrant:6333/collections/DocumentsDB_Langchain/points?wait=true \"HTTP/1.1 200 OK\"\n",
      "HTTP Request: PUT http://qdrant:6333/collections/DocumentsDB_Langchain/points?wait=true \"HTTP/1.1 200 OK\"\n",
      "HTTP Request: PUT http://qdrant:6333/collections/DocumentsDB_Langchain/points?wait=true \"HTTP/1.1 200 OK\"\n",
      "HTTP Request: PUT http://qdrant:6333/collections/DocumentsDB_Langchain/points?wait=true \"HTTP/1.1 200 OK\"\n",
      "HTTP Request: PUT http://qdrant:6333/collections/DocumentsDB_Langchain/points?wait=true \"HTTP/1.1 200 OK\"\n",
      "INFO:httpx:HTTP Request: PUT http://qdrant:6333/collections/DocumentsDB_Langchain/points?wait=true \"HTTP/1.1 200 OK\"\n",
      "HTTP Request: PUT http://qdrant:6333/collections/DocumentsDB_Langchain/points?wait=true \"HTTP/1.1 200 OK\"\n",
      "HTTP Request: PUT http://qdrant:6333/collections/DocumentsDB_Langchain/points?wait=true \"HTTP/1.1 200 OK\"\n",
      "HTTP Request: PUT http://qdrant:6333/collections/DocumentsDB_Langchain/points?wait=true \"HTTP/1.1 200 OK\"\n",
      "HTTP Request: PUT http://qdrant:6333/collections/DocumentsDB_Langchain/points?wait=true \"HTTP/1.1 200 OK\"\n",
      "INFO:httpx:HTTP Request: PUT http://qdrant:6333/collections/DocumentsDB_Langchain/points?wait=true \"HTTP/1.1 200 OK\"\n",
      "HTTP Request: PUT http://qdrant:6333/collections/DocumentsDB_Langchain/points?wait=true \"HTTP/1.1 200 OK\"\n",
      "HTTP Request: PUT http://qdrant:6333/collections/DocumentsDB_Langchain/points?wait=true \"HTTP/1.1 200 OK\"\n",
      "HTTP Request: PUT http://qdrant:6333/collections/DocumentsDB_Langchain/points?wait=true \"HTTP/1.1 200 OK\"\n",
      "HTTP Request: PUT http://qdrant:6333/collections/DocumentsDB_Langchain/points?wait=true \"HTTP/1.1 200 OK\"\n",
      "INFO:httpx:HTTP Request: PUT http://qdrant:6333/collections/DocumentsDB_Langchain/points?wait=true \"HTTP/1.1 200 OK\"\n",
      "HTTP Request: PUT http://qdrant:6333/collections/DocumentsDB_Langchain/points?wait=true \"HTTP/1.1 200 OK\"\n",
      "HTTP Request: PUT http://qdrant:6333/collections/DocumentsDB_Langchain/points?wait=true \"HTTP/1.1 200 OK\"\n",
      "HTTP Request: PUT http://qdrant:6333/collections/DocumentsDB_Langchain/points?wait=true \"HTTP/1.1 200 OK\"\n",
      "HTTP Request: PUT http://qdrant:6333/collections/DocumentsDB_Langchain/points?wait=true \"HTTP/1.1 200 OK\"\n",
      "INFO:httpx:HTTP Request: PUT http://qdrant:6333/collections/DocumentsDB_Langchain/points?wait=true \"HTTP/1.1 200 OK\"\n",
      "HTTP Request: PUT http://qdrant:6333/collections/DocumentsDB_Langchain/points?wait=true \"HTTP/1.1 200 OK\"\n",
      "HTTP Request: PUT http://qdrant:6333/collections/DocumentsDB_Langchain/points?wait=true \"HTTP/1.1 200 OK\"\n",
      "HTTP Request: PUT http://qdrant:6333/collections/DocumentsDB_Langchain/points?wait=true \"HTTP/1.1 200 OK\"\n",
      "HTTP Request: PUT http://qdrant:6333/collections/DocumentsDB_Langchain/points?wait=true \"HTTP/1.1 200 OK\"\n",
      "INFO:httpx:HTTP Request: PUT http://qdrant:6333/collections/DocumentsDB_Langchain/points?wait=true \"HTTP/1.1 200 OK\"\n",
      "HTTP Request: PUT http://qdrant:6333/collections/DocumentsDB_Langchain/points?wait=true \"HTTP/1.1 200 OK\"\n",
      "HTTP Request: PUT http://qdrant:6333/collections/DocumentsDB_Langchain/points?wait=true \"HTTP/1.1 200 OK\"\n",
      "HTTP Request: PUT http://qdrant:6333/collections/DocumentsDB_Langchain/points?wait=true \"HTTP/1.1 200 OK\"\n",
      "HTTP Request: PUT http://qdrant:6333/collections/DocumentsDB_Langchain/points?wait=true \"HTTP/1.1 200 OK\"\n",
      "INFO:httpx:HTTP Request: PUT http://qdrant:6333/collections/DocumentsDB_Langchain/points?wait=true \"HTTP/1.1 200 OK\"\n",
      "HTTP Request: PUT http://qdrant:6333/collections/DocumentsDB_Langchain/points?wait=true \"HTTP/1.1 200 OK\"\n",
      "HTTP Request: PUT http://qdrant:6333/collections/DocumentsDB_Langchain/points?wait=true \"HTTP/1.1 200 OK\"\n",
      "HTTP Request: PUT http://qdrant:6333/collections/DocumentsDB_Langchain/points?wait=true \"HTTP/1.1 200 OK\"\n",
      "HTTP Request: PUT http://qdrant:6333/collections/DocumentsDB_Langchain/points?wait=true \"HTTP/1.1 200 OK\"\n",
      "INFO:httpx:HTTP Request: PUT http://qdrant:6333/collections/DocumentsDB_Langchain/points?wait=true \"HTTP/1.1 200 OK\"\n",
      "HTTP Request: PUT http://qdrant:6333/collections/DocumentsDB_Langchain/points?wait=true \"HTTP/1.1 200 OK\"\n",
      "HTTP Request: PUT http://qdrant:6333/collections/DocumentsDB_Langchain/points?wait=true \"HTTP/1.1 200 OK\"\n",
      "HTTP Request: PUT http://qdrant:6333/collections/DocumentsDB_Langchain/points?wait=true \"HTTP/1.1 200 OK\"\n",
      "HTTP Request: PUT http://qdrant:6333/collections/DocumentsDB_Langchain/points?wait=true \"HTTP/1.1 200 OK\"\n",
      "INFO:httpx:HTTP Request: PUT http://qdrant:6333/collections/DocumentsDB_Langchain/points?wait=true \"HTTP/1.1 200 OK\"\n",
      "HTTP Request: PUT http://qdrant:6333/collections/DocumentsDB_Langchain/points?wait=true \"HTTP/1.1 200 OK\"\n",
      "HTTP Request: PUT http://qdrant:6333/collections/DocumentsDB_Langchain/points?wait=true \"HTTP/1.1 200 OK\"\n",
      "HTTP Request: PUT http://qdrant:6333/collections/DocumentsDB_Langchain/points?wait=true \"HTTP/1.1 200 OK\"\n",
      "HTTP Request: PUT http://qdrant:6333/collections/DocumentsDB_Langchain/points?wait=true \"HTTP/1.1 200 OK\"\n",
      "INFO:httpx:HTTP Request: PUT http://qdrant:6333/collections/DocumentsDB_Langchain/points?wait=true \"HTTP/1.1 200 OK\"\n",
      "HTTP Request: PUT http://qdrant:6333/collections/DocumentsDB_Langchain/points?wait=true \"HTTP/1.1 200 OK\"\n",
      "HTTP Request: PUT http://qdrant:6333/collections/DocumentsDB_Langchain/points?wait=true \"HTTP/1.1 200 OK\"\n",
      "HTTP Request: PUT http://qdrant:6333/collections/DocumentsDB_Langchain/points?wait=true \"HTTP/1.1 200 OK\"\n",
      "HTTP Request: PUT http://qdrant:6333/collections/DocumentsDB_Langchain/points?wait=true \"HTTP/1.1 200 OK\"\n",
      "INFO:httpx:HTTP Request: PUT http://qdrant:6333/collections/DocumentsDB_Langchain/points?wait=true \"HTTP/1.1 200 OK\"\n",
      "HTTP Request: PUT http://qdrant:6333/collections/DocumentsDB_Langchain/points?wait=true \"HTTP/1.1 200 OK\"\n",
      "HTTP Request: PUT http://qdrant:6333/collections/DocumentsDB_Langchain/points?wait=true \"HTTP/1.1 200 OK\"\n",
      "HTTP Request: PUT http://qdrant:6333/collections/DocumentsDB_Langchain/points?wait=true \"HTTP/1.1 200 OK\"\n",
      "HTTP Request: PUT http://qdrant:6333/collections/DocumentsDB_Langchain/points?wait=true \"HTTP/1.1 200 OK\"\n",
      "INFO:httpx:HTTP Request: PUT http://qdrant:6333/collections/DocumentsDB_Langchain/points?wait=true \"HTTP/1.1 200 OK\"\n",
      "HTTP Request: PUT http://qdrant:6333/collections/DocumentsDB_Langchain/points?wait=true \"HTTP/1.1 200 OK\"\n",
      "HTTP Request: PUT http://qdrant:6333/collections/DocumentsDB_Langchain/points?wait=true \"HTTP/1.1 200 OK\"\n",
      "HTTP Request: PUT http://qdrant:6333/collections/DocumentsDB_Langchain/points?wait=true \"HTTP/1.1 200 OK\"\n",
      "HTTP Request: PUT http://qdrant:6333/collections/DocumentsDB_Langchain/points?wait=true \"HTTP/1.1 200 OK\"\n",
      "INFO:httpx:HTTP Request: PUT http://qdrant:6333/collections/DocumentsDB_Langchain/points?wait=true \"HTTP/1.1 200 OK\"\n",
      "HTTP Request: PUT http://qdrant:6333/collections/DocumentsDB_Langchain/points?wait=true \"HTTP/1.1 200 OK\"\n",
      "HTTP Request: PUT http://qdrant:6333/collections/DocumentsDB_Langchain/points?wait=true \"HTTP/1.1 200 OK\"\n",
      "HTTP Request: PUT http://qdrant:6333/collections/DocumentsDB_Langchain/points?wait=true \"HTTP/1.1 200 OK\"\n",
      "HTTP Request: PUT http://qdrant:6333/collections/DocumentsDB_Langchain/points?wait=true \"HTTP/1.1 200 OK\"\n",
      "INFO:httpx:HTTP Request: PUT http://qdrant:6333/collections/DocumentsDB_Langchain/points?wait=true \"HTTP/1.1 200 OK\"\n",
      "HTTP Request: PUT http://qdrant:6333/collections/DocumentsDB_Langchain/points?wait=true \"HTTP/1.1 200 OK\"\n",
      "HTTP Request: PUT http://qdrant:6333/collections/DocumentsDB_Langchain/points?wait=true \"HTTP/1.1 200 OK\"\n",
      "HTTP Request: PUT http://qdrant:6333/collections/DocumentsDB_Langchain/points?wait=true \"HTTP/1.1 200 OK\"\n",
      "HTTP Request: PUT http://qdrant:6333/collections/DocumentsDB_Langchain/points?wait=true \"HTTP/1.1 200 OK\"\n"
     ]
    }
   ],
   "source": [
    "from langchain.embeddings.openai import OpenAIEmbeddings\n",
    "from langchain.vectorstores import Qdrant\n",
    "from langchain.schema import Document\n",
    "embeddings = OpenAIEmbeddings()\n",
    "documents = [Document(page_content = data,metadata ={\"type\":\"related\",\"filename\":\"ビジネス光ネットサービス契約約款\"}) for data in clean_data.split(\"\\n\")]\n",
    "qdrant = Qdrant.from_documents(documents, embeddings,host=\"qdrant\",port=6333, collection_name= \"DocumentsDB_Langchain\")"
   ]
  }
 ],
 "metadata": {
  "kernelspec": {
   "display_name": "Python 3 (ipykernel)",
   "language": "python",
   "name": "python3"
  }
 },
 "nbformat": 4,
 "nbformat_minor": 5
}
