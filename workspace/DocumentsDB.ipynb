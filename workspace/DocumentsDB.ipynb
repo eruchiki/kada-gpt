{
 "cells": [
  {
   "cell_type": "code",
   "execution_count": 1,
   "id": "2ff4c929-108f-4182-9ea2-c5a0aeb82ecf",
   "metadata": {},
   "outputs": [],
   "source": [
    "import os\n",
    "import uuid"
   ]
  },
  {
   "cell_type": "markdown",
   "id": "7ea33402-b912-4f8b-bc51-75ff7b9ec411",
   "metadata": {},
   "source": [
    "## PDF読み込み"
   ]
  },
  {
   "cell_type": "code",
   "execution_count": 2,
   "id": "645917df-72c2-4382-811f-c79f0acbdf50",
   "metadata": {},
   "outputs": [],
   "source": [
    "import fitz # pymupdfライブラリ"
   ]
  },
  {
   "cell_type": "code",
   "execution_count": 42,
   "id": "586218bd-0bc0-4525-8f1d-deea8ca5c5d2",
   "metadata": {},
   "outputs": [],
   "source": [
    "def pdf_reader(file_path,output_dir):\n",
    "    doc = fitz.open(filename)\n",
    "    for page in range(len(doc)):\n",
    "        page_data = doc[page]\n",
    "        text = page_data.get_text()\n",
    "        table_data = page_data.find_tables()\n",
    "        if len(table_data.tables) > 0:\n",
    "            table_text = \"\"\n",
    "            for tbl in table_data:\n",
    "                for t in tbl.extract():\n",
    "                    if None in t:\n",
    "                        t = [_t for _t in t if _t != None]\n",
    "                    table_text += \":\".join(t).replace(\"\\n\",\"\") + \"\\n\"\n",
    "                table_text += \"\\n\"\n",
    "            with open(f\"{output_dir}/table_{page}.txt\",mode=\"w\",encoding=\"utf-8\") as f:\n",
    "                f.write(table_text)\n",
    "        with open(f\"{output_dir}/{page}.txt\",mode=\"w\",encoding=\"utf-8\") as f:\n",
    "            f.write(text)\n",
    "\n",
    "filename = 'pdf_data/data_0.pdf'\n",
    "output_dir = 'pdf_to_text/data0'\n",
    "pdf_reader(filename,output_dir)"
   ]
  },
  {
   "cell_type": "markdown",
   "id": "864fbbbd-594e-4f86-a306-a7bc30b22c35",
   "metadata": {},
   "source": [
    "## 前処理"
   ]
  },
  {
   "cell_type": "code",
   "execution_count": 43,
   "id": "fd38e5a4-bd67-49da-91be-9ee01924ab76",
   "metadata": {},
   "outputs": [],
   "source": [
    "import re\n",
    "from unicodedata import normalize\n",
    "from glob import glob"
   ]
  },
  {
   "cell_type": "code",
   "execution_count": 47,
   "id": "eeab666d-2536-40c2-b9da-764495912fef",
   "metadata": {},
   "outputs": [],
   "source": [
    "def concat_pages(dir_path,skip_page=[]):\n",
    "    text_data = \"\"\n",
    "    for page in range(len(glob(f\"{dir_path}/[0-9]*.txt\"))):\n",
    "        if page not in skip_page:\n",
    "            with open(f\"{dir_path}/{page}.txt\",mode=\"r\",encoding=\"utf-8\") as f:\n",
    "                page_data = f.read()\n",
    "                text_data += page_data+\"\\n\"\n",
    "    return text_data\n",
    "        \n",
    "def normalize_text(text_data,remove_str=r\"\\u3000\"):\n",
    "    clean_text = normalize('NFKC', text_data)\n",
    "    clean_text = re.sub(remove_str, r'', clean_text)\n",
    "    return clean_text\n",
    "\n",
    "def skip_text(text_data,skip_pattern):\n",
    "    text_list = text_data.split(\"\\n\")\n",
    "    result = []\n",
    "    for text in text_list:\n",
    "        text = text.replace(\"\\n\",\"\")\n",
    "        if text == \"\" or re.fullmatch(skip_pattern,text):\n",
    "            continue\n",
    "        else:\n",
    "            result.append(text)\n",
    "    return \"\\n\".join(result)\n",
    "\n",
    "def split_text(text_data,pattern):\n",
    "    text_list = text_data.split(\"\\n\")\n",
    "    result = []\n",
    "    for text in text_list:\n",
    "        if re.match(pattern,text):\n",
    "            result.append(\"\\n\\n\"+text)\n",
    "        else:\n",
    "            result.append(text)\n",
    "    return \"\".join(result)\n",
    "    \n",
    "def sentence_split(text_data,split_str=\"。\"):\n",
    "    text_list = text_data.split(\"\\n\")\n",
    "    result = []\n",
    "    for text in text_list:\n",
    "        if text[-1]==split_str:\n",
    "            result.append(text+\"\\n\")\n",
    "        else:\n",
    "            result.append(text)\n",
    "    return \"\".join(result)"
   ]
  },
  {
   "cell_type": "code",
   "execution_count": 48,
   "id": "8d4ff16a-6064-4a05-85ee-906d2d54bc0d",
   "metadata": {
    "scrolled": true
   },
   "outputs": [],
   "source": [
    "skip_page = [0,1,2,3,21,29,46,48]\n",
    "concat_data = concat_pages(\"./pdf_to_text/data0\",skip_page)\n",
    "clean_data = normalize_text(concat_data,remove_str=\"[\\u3000 ]\")\n",
    "clean_data = sentence_split(skip_text(clean_data,skip_pattern=r\"^\\d+\"))\n",
    "# split_text = split_text(clean_data,pattern=r\"^第[0-9]+章\")"
   ]
  },
  {
   "cell_type": "code",
   "execution_count": 54,
   "id": "d13494ef-7c0e-498c-9a3b-1e5934250397",
   "metadata": {},
   "outputs": [
    {
     "data": {
      "text/plain": [
       "922"
      ]
     },
     "execution_count": 54,
     "metadata": {},
     "output_type": "execute_result"
    }
   ],
   "source": [
    "len(clean_data.split(\"\\n\"))"
   ]
  },
  {
   "cell_type": "markdown",
   "id": "239e2f30-fbf4-417a-ac4a-d6d181ba146e",
   "metadata": {},
   "source": [
    "## Qdrantに接続& ベクトル化"
   ]
  },
  {
   "cell_type": "code",
   "execution_count": 93,
   "id": "ca1096dd-c46a-489a-a025-9b1b17838b8e",
   "metadata": {},
   "outputs": [],
   "source": [
    "paragraph_separator = \"\\n\\n\" # 段落分割\n",
    "chunk_size = 1024 #チャンク（トークン）数\n",
    "chunk_overlap = 20 # 前のチャンクをどのくらい含めるか\n",
    "secondary_chunking_regex = '[^,.．;。]+[,.．;。]?'# 文分割"
   ]
  },
  {
   "cell_type": "code",
   "execution_count": 95,
   "id": "a8d4f437-6f6f-4fa4-b3a1-44d01c59e4db",
   "metadata": {},
   "outputs": [
    {
     "name": "stdout",
     "output_type": "stream",
     "text": [
      "INFO:httpx:HTTP Request: GET http://qdrant:6333/collections/DocumentsDB_Langchain \"HTTP/1.1 404 Not Found\"\n",
      "HTTP Request: GET http://qdrant:6333/collections/DocumentsDB_Langchain \"HTTP/1.1 404 Not Found\"\n",
      "HTTP Request: GET http://qdrant:6333/collections/DocumentsDB_Langchain \"HTTP/1.1 404 Not Found\"\n",
      "HTTP Request: GET http://qdrant:6333/collections/DocumentsDB_Langchain \"HTTP/1.1 404 Not Found\"\n",
      "HTTP Request: GET http://qdrant:6333/collections/DocumentsDB_Langchain \"HTTP/1.1 404 Not Found\"\n",
      "INFO:httpx:HTTP Request: DELETE http://qdrant:6333/collections/DocumentsDB_Langchain \"HTTP/1.1 200 OK\"\n",
      "HTTP Request: DELETE http://qdrant:6333/collections/DocumentsDB_Langchain \"HTTP/1.1 200 OK\"\n",
      "HTTP Request: DELETE http://qdrant:6333/collections/DocumentsDB_Langchain \"HTTP/1.1 200 OK\"\n",
      "HTTP Request: DELETE http://qdrant:6333/collections/DocumentsDB_Langchain \"HTTP/1.1 200 OK\"\n",
      "HTTP Request: DELETE http://qdrant:6333/collections/DocumentsDB_Langchain \"HTTP/1.1 200 OK\"\n",
      "INFO:httpx:HTTP Request: PUT http://qdrant:6333/collections/DocumentsDB_Langchain \"HTTP/1.1 200 OK\"\n",
      "HTTP Request: PUT http://qdrant:6333/collections/DocumentsDB_Langchain \"HTTP/1.1 200 OK\"\n",
      "HTTP Request: PUT http://qdrant:6333/collections/DocumentsDB_Langchain \"HTTP/1.1 200 OK\"\n",
      "HTTP Request: PUT http://qdrant:6333/collections/DocumentsDB_Langchain \"HTTP/1.1 200 OK\"\n",
      "HTTP Request: PUT http://qdrant:6333/collections/DocumentsDB_Langchain \"HTTP/1.1 200 OK\"\n",
      "INFO:httpx:HTTP Request: PUT http://qdrant:6333/collections/DocumentsDB_Langchain/points?wait=true \"HTTP/1.1 200 OK\"\n",
      "HTTP Request: PUT http://qdrant:6333/collections/DocumentsDB_Langchain/points?wait=true \"HTTP/1.1 200 OK\"\n",
      "HTTP Request: PUT http://qdrant:6333/collections/DocumentsDB_Langchain/points?wait=true \"HTTP/1.1 200 OK\"\n",
      "HTTP Request: PUT http://qdrant:6333/collections/DocumentsDB_Langchain/points?wait=true \"HTTP/1.1 200 OK\"\n",
      "HTTP Request: PUT http://qdrant:6333/collections/DocumentsDB_Langchain/points?wait=true \"HTTP/1.1 200 OK\"\n",
      "INFO:httpx:HTTP Request: PUT http://qdrant:6333/collections/DocumentsDB_Langchain/points?wait=true \"HTTP/1.1 200 OK\"\n",
      "HTTP Request: PUT http://qdrant:6333/collections/DocumentsDB_Langchain/points?wait=true \"HTTP/1.1 200 OK\"\n",
      "HTTP Request: PUT http://qdrant:6333/collections/DocumentsDB_Langchain/points?wait=true \"HTTP/1.1 200 OK\"\n",
      "HTTP Request: PUT http://qdrant:6333/collections/DocumentsDB_Langchain/points?wait=true \"HTTP/1.1 200 OK\"\n",
      "HTTP Request: PUT http://qdrant:6333/collections/DocumentsDB_Langchain/points?wait=true \"HTTP/1.1 200 OK\"\n",
      "INFO:httpx:HTTP Request: PUT http://qdrant:6333/collections/DocumentsDB_Langchain/points?wait=true \"HTTP/1.1 200 OK\"\n",
      "HTTP Request: PUT http://qdrant:6333/collections/DocumentsDB_Langchain/points?wait=true \"HTTP/1.1 200 OK\"\n",
      "HTTP Request: PUT http://qdrant:6333/collections/DocumentsDB_Langchain/points?wait=true \"HTTP/1.1 200 OK\"\n",
      "HTTP Request: PUT http://qdrant:6333/collections/DocumentsDB_Langchain/points?wait=true \"HTTP/1.1 200 OK\"\n",
      "HTTP Request: PUT http://qdrant:6333/collections/DocumentsDB_Langchain/points?wait=true \"HTTP/1.1 200 OK\"\n",
      "INFO:httpx:HTTP Request: PUT http://qdrant:6333/collections/DocumentsDB_Langchain/points?wait=true \"HTTP/1.1 200 OK\"\n",
      "HTTP Request: PUT http://qdrant:6333/collections/DocumentsDB_Langchain/points?wait=true \"HTTP/1.1 200 OK\"\n",
      "HTTP Request: PUT http://qdrant:6333/collections/DocumentsDB_Langchain/points?wait=true \"HTTP/1.1 200 OK\"\n",
      "HTTP Request: PUT http://qdrant:6333/collections/DocumentsDB_Langchain/points?wait=true \"HTTP/1.1 200 OK\"\n",
      "HTTP Request: PUT http://qdrant:6333/collections/DocumentsDB_Langchain/points?wait=true \"HTTP/1.1 200 OK\"\n",
      "INFO:httpx:HTTP Request: PUT http://qdrant:6333/collections/DocumentsDB_Langchain/points?wait=true \"HTTP/1.1 200 OK\"\n",
      "HTTP Request: PUT http://qdrant:6333/collections/DocumentsDB_Langchain/points?wait=true \"HTTP/1.1 200 OK\"\n",
      "HTTP Request: PUT http://qdrant:6333/collections/DocumentsDB_Langchain/points?wait=true \"HTTP/1.1 200 OK\"\n",
      "HTTP Request: PUT http://qdrant:6333/collections/DocumentsDB_Langchain/points?wait=true \"HTTP/1.1 200 OK\"\n",
      "HTTP Request: PUT http://qdrant:6333/collections/DocumentsDB_Langchain/points?wait=true \"HTTP/1.1 200 OK\"\n",
      "INFO:httpx:HTTP Request: PUT http://qdrant:6333/collections/DocumentsDB_Langchain/points?wait=true \"HTTP/1.1 200 OK\"\n",
      "HTTP Request: PUT http://qdrant:6333/collections/DocumentsDB_Langchain/points?wait=true \"HTTP/1.1 200 OK\"\n",
      "HTTP Request: PUT http://qdrant:6333/collections/DocumentsDB_Langchain/points?wait=true \"HTTP/1.1 200 OK\"\n",
      "HTTP Request: PUT http://qdrant:6333/collections/DocumentsDB_Langchain/points?wait=true \"HTTP/1.1 200 OK\"\n",
      "HTTP Request: PUT http://qdrant:6333/collections/DocumentsDB_Langchain/points?wait=true \"HTTP/1.1 200 OK\"\n",
      "INFO:httpx:HTTP Request: PUT http://qdrant:6333/collections/DocumentsDB_Langchain/points?wait=true \"HTTP/1.1 200 OK\"\n",
      "HTTP Request: PUT http://qdrant:6333/collections/DocumentsDB_Langchain/points?wait=true \"HTTP/1.1 200 OK\"\n",
      "HTTP Request: PUT http://qdrant:6333/collections/DocumentsDB_Langchain/points?wait=true \"HTTP/1.1 200 OK\"\n",
      "HTTP Request: PUT http://qdrant:6333/collections/DocumentsDB_Langchain/points?wait=true \"HTTP/1.1 200 OK\"\n",
      "HTTP Request: PUT http://qdrant:6333/collections/DocumentsDB_Langchain/points?wait=true \"HTTP/1.1 200 OK\"\n",
      "INFO:httpx:HTTP Request: PUT http://qdrant:6333/collections/DocumentsDB_Langchain/points?wait=true \"HTTP/1.1 200 OK\"\n",
      "HTTP Request: PUT http://qdrant:6333/collections/DocumentsDB_Langchain/points?wait=true \"HTTP/1.1 200 OK\"\n",
      "HTTP Request: PUT http://qdrant:6333/collections/DocumentsDB_Langchain/points?wait=true \"HTTP/1.1 200 OK\"\n",
      "HTTP Request: PUT http://qdrant:6333/collections/DocumentsDB_Langchain/points?wait=true \"HTTP/1.1 200 OK\"\n",
      "HTTP Request: PUT http://qdrant:6333/collections/DocumentsDB_Langchain/points?wait=true \"HTTP/1.1 200 OK\"\n",
      "INFO:httpx:HTTP Request: PUT http://qdrant:6333/collections/DocumentsDB_Langchain/points?wait=true \"HTTP/1.1 200 OK\"\n",
      "HTTP Request: PUT http://qdrant:6333/collections/DocumentsDB_Langchain/points?wait=true \"HTTP/1.1 200 OK\"\n",
      "HTTP Request: PUT http://qdrant:6333/collections/DocumentsDB_Langchain/points?wait=true \"HTTP/1.1 200 OK\"\n",
      "HTTP Request: PUT http://qdrant:6333/collections/DocumentsDB_Langchain/points?wait=true \"HTTP/1.1 200 OK\"\n",
      "HTTP Request: PUT http://qdrant:6333/collections/DocumentsDB_Langchain/points?wait=true \"HTTP/1.1 200 OK\"\n",
      "INFO:httpx:HTTP Request: PUT http://qdrant:6333/collections/DocumentsDB_Langchain/points?wait=true \"HTTP/1.1 200 OK\"\n",
      "HTTP Request: PUT http://qdrant:6333/collections/DocumentsDB_Langchain/points?wait=true \"HTTP/1.1 200 OK\"\n",
      "HTTP Request: PUT http://qdrant:6333/collections/DocumentsDB_Langchain/points?wait=true \"HTTP/1.1 200 OK\"\n",
      "HTTP Request: PUT http://qdrant:6333/collections/DocumentsDB_Langchain/points?wait=true \"HTTP/1.1 200 OK\"\n",
      "HTTP Request: PUT http://qdrant:6333/collections/DocumentsDB_Langchain/points?wait=true \"HTTP/1.1 200 OK\"\n",
      "INFO:httpx:HTTP Request: PUT http://qdrant:6333/collections/DocumentsDB_Langchain/points?wait=true \"HTTP/1.1 200 OK\"\n",
      "HTTP Request: PUT http://qdrant:6333/collections/DocumentsDB_Langchain/points?wait=true \"HTTP/1.1 200 OK\"\n",
      "HTTP Request: PUT http://qdrant:6333/collections/DocumentsDB_Langchain/points?wait=true \"HTTP/1.1 200 OK\"\n",
      "HTTP Request: PUT http://qdrant:6333/collections/DocumentsDB_Langchain/points?wait=true \"HTTP/1.1 200 OK\"\n",
      "HTTP Request: PUT http://qdrant:6333/collections/DocumentsDB_Langchain/points?wait=true \"HTTP/1.1 200 OK\"\n",
      "INFO:httpx:HTTP Request: PUT http://qdrant:6333/collections/DocumentsDB_Langchain/points?wait=true \"HTTP/1.1 200 OK\"\n",
      "HTTP Request: PUT http://qdrant:6333/collections/DocumentsDB_Langchain/points?wait=true \"HTTP/1.1 200 OK\"\n",
      "HTTP Request: PUT http://qdrant:6333/collections/DocumentsDB_Langchain/points?wait=true \"HTTP/1.1 200 OK\"\n",
      "HTTP Request: PUT http://qdrant:6333/collections/DocumentsDB_Langchain/points?wait=true \"HTTP/1.1 200 OK\"\n",
      "HTTP Request: PUT http://qdrant:6333/collections/DocumentsDB_Langchain/points?wait=true \"HTTP/1.1 200 OK\"\n",
      "INFO:httpx:HTTP Request: PUT http://qdrant:6333/collections/DocumentsDB_Langchain/points?wait=true \"HTTP/1.1 200 OK\"\n",
      "HTTP Request: PUT http://qdrant:6333/collections/DocumentsDB_Langchain/points?wait=true \"HTTP/1.1 200 OK\"\n",
      "HTTP Request: PUT http://qdrant:6333/collections/DocumentsDB_Langchain/points?wait=true \"HTTP/1.1 200 OK\"\n",
      "HTTP Request: PUT http://qdrant:6333/collections/DocumentsDB_Langchain/points?wait=true \"HTTP/1.1 200 OK\"\n",
      "HTTP Request: PUT http://qdrant:6333/collections/DocumentsDB_Langchain/points?wait=true \"HTTP/1.1 200 OK\"\n",
      "INFO:httpx:HTTP Request: PUT http://qdrant:6333/collections/DocumentsDB_Langchain/points?wait=true \"HTTP/1.1 200 OK\"\n",
      "HTTP Request: PUT http://qdrant:6333/collections/DocumentsDB_Langchain/points?wait=true \"HTTP/1.1 200 OK\"\n",
      "HTTP Request: PUT http://qdrant:6333/collections/DocumentsDB_Langchain/points?wait=true \"HTTP/1.1 200 OK\"\n",
      "HTTP Request: PUT http://qdrant:6333/collections/DocumentsDB_Langchain/points?wait=true \"HTTP/1.1 200 OK\"\n",
      "HTTP Request: PUT http://qdrant:6333/collections/DocumentsDB_Langchain/points?wait=true \"HTTP/1.1 200 OK\"\n",
      "INFO:httpx:HTTP Request: PUT http://qdrant:6333/collections/DocumentsDB_Langchain/points?wait=true \"HTTP/1.1 200 OK\"\n",
      "HTTP Request: PUT http://qdrant:6333/collections/DocumentsDB_Langchain/points?wait=true \"HTTP/1.1 200 OK\"\n",
      "HTTP Request: PUT http://qdrant:6333/collections/DocumentsDB_Langchain/points?wait=true \"HTTP/1.1 200 OK\"\n",
      "HTTP Request: PUT http://qdrant:6333/collections/DocumentsDB_Langchain/points?wait=true \"HTTP/1.1 200 OK\"\n",
      "HTTP Request: PUT http://qdrant:6333/collections/DocumentsDB_Langchain/points?wait=true \"HTTP/1.1 200 OK\"\n"
     ]
    }
   ],
   "source": [
    "from langchain.embeddings.openai import OpenAIEmbeddings\n",
    "from langchain.vectorstores import Qdrant\n",
    "from langchain.schema import Document\n",
    "embeddings = OpenAIEmbeddings()\n",
    "documents = [Document(page_content = data,metadata ={\"type\":\"related\",\"filename\":\"ビジネス光ネットサービス契約約款\"}) for data in clean_data.split(\"\\n\")]\n",
    "qdrant = Qdrant.from_documents(documents, embeddings,host=\"qdrant\",port=6333, collection_name= \"DocumentsDB_Langchain\")"
   ]
  },
  {
   "cell_type": "markdown",
   "id": "e468d386-901f-4ee3-af37-176192b5a5ff",
   "metadata": {},
   "source": [
    "## 応答テスト"
   ]
  },
  {
   "cell_type": "code",
   "execution_count": 83,
   "id": "08fa947f-ec14-4b51-a0ff-7d92f36aa5c5",
   "metadata": {},
   "outputs": [
    {
     "name": "stdout",
     "output_type": "stream",
     "text": [
      "INFO:httpx:HTTP Request: POST http://qdrant:6333/collections/DocumentDB/points/search \"HTTP/1.1 200 OK\"\n",
      "HTTP Request: POST http://qdrant:6333/collections/DocumentDB/points/search \"HTTP/1.1 200 OK\"\n",
      "HTTP Request: POST http://qdrant:6333/collections/DocumentDB/points/search \"HTTP/1.1 200 OK\"\n",
      "HTTP Request: POST http://qdrant:6333/collections/DocumentDB/points/search \"HTTP/1.1 200 OK\"\n",
      "HTTP Request: POST http://qdrant:6333/collections/DocumentDB/points/search \"HTTP/1.1 200 OK\"\n",
      "ビジネス光ネットサービスはインターネットで解約することはできません。光ネットサービス契約者は、解約を行うためにはあらかじめ書面により光ネットサービス取扱所に通知する必要があります。\n"
     ]
    }
   ],
   "source": [
    "query_engine = index.as_query_engine(similarity_top_k=10)\n",
    "response = query_engine.query(\"ビジネス光ネットサービスはインターネットで解約できないの？\")\n",
    "print(response)"
   ]
  },
  {
   "cell_type": "markdown",
   "id": "15f2a23e-0299-4fa0-bdb0-687ea9a58080",
   "metadata": {},
   "source": [
    "## 類似度が高いNode取り出し"
   ]
  },
  {
   "cell_type": "code",
   "execution_count": 87,
   "id": "ec21f39c-e170-4dd1-bd74-7d3c0b13403a",
   "metadata": {},
   "outputs": [
    {
     "name": "stdout",
     "output_type": "stream",
     "text": [
      "INFO:httpx:HTTP Request: POST http://qdrant:6333/collections/DocumentDB/points/search \"HTTP/1.1 200 OK\"\n",
      "HTTP Request: POST http://qdrant:6333/collections/DocumentDB/points/search \"HTTP/1.1 200 OK\"\n",
      "HTTP Request: POST http://qdrant:6333/collections/DocumentDB/points/search \"HTTP/1.1 200 OK\"\n",
      "HTTP Request: POST http://qdrant:6333/collections/DocumentDB/points/search \"HTTP/1.1 200 OK\"\n",
      "HTTP Request: POST http://qdrant:6333/collections/DocumentDB/points/search \"HTTP/1.1 200 OK\"\n"
     ]
    },
    {
     "data": {
      "text/plain": [
       "[NodeWithScore(node=TextNode(id_='481d0c75-7f1b-49e6-81b7-2c11fd265b4f', embedding=None, metadata={'name': 'related'}, excluded_embed_metadata_keys=[], excluded_llm_metadata_keys=[], relationships={<NodeRelationship.SOURCE: '1'>: RelatedNodeInfo(node_id='8ac8a086-fd34-4ed3-bada-93e146b85b06', node_type=None, metadata={'name': 'related'}, hash='06fd0a46ff113f212d2d17f52f9f6ce0762f5fbe5305807eb4d5b1bffe1a42de')}, hash='06fd0a46ff113f212d2d17f52f9f6ce0762f5fbe5305807eb4d5b1bffe1a42de', text='(注)業務の遂行上必要な範囲での利用には、光ネットサービス契約者に係る情報を当社の業務を委託している者に提供する場合を含みます。', start_char_idx=None, end_char_idx=None, text_template='{metadata_str}\\n\\n{content}', metadata_template='{key}: {value}', metadata_seperator='\\n'), score=0.872484),\n",
       " NodeWithScore(node=TextNode(id_='2abdc908-4893-417e-bcc2-9ead5ddf914c', embedding=None, metadata={'name': 'related'}, excluded_embed_metadata_keys=[], excluded_llm_metadata_keys=[], relationships={<NodeRelationship.SOURCE: '1'>: RelatedNodeInfo(node_id='09be3fa4-cb58-414e-96c1-241cad1a9e8f', node_type=None, metadata={'name': 'related'}, hash='6c3f33f3de5abe3d2f15bc4b087d838b23f2c2fabb698cd2a8442c6675572846')}, hash='6c3f33f3de5abe3d2f15bc4b087d838b23f2c2fabb698cd2a8442c6675572846', text='2当社は、当社が指定する光ネットサービス取扱所において、光ネットサービスを利用する上で参考となる、別記13に定める事項を記載した技術資料を閲覧に供します。', start_char_idx=None, end_char_idx=None, text_template='{metadata_str}\\n\\n{content}', metadata_template='{key}: {value}', metadata_seperator='\\n'), score=0.87055266),\n",
       " NodeWithScore(node=TextNode(id_='1d6cf5d2-01e4-4361-a83b-fb152f03d035', embedding=None, metadata={'name': 'related'}, excluded_embed_metadata_keys=[], excluded_llm_metadata_keys=[], relationships={<NodeRelationship.SOURCE: '1'>: RelatedNodeInfo(node_id='2f49733c-b4cc-4bab-a65d-fc24e6ff033d', node_type=None, metadata={'name': 'related'}, hash='da1d082491a35cb2d7a2f2991422b6494ce48f7cace6b20f94f46da2c06105c7')}, hash='da1d082491a35cb2d7a2f2991422b6494ce48f7cace6b20f94f46da2c06105c7', text='(光ネットサービスの提供範囲等)第6条当社は、光ネットサービスを本邦内に限り提供します。', start_char_idx=None, end_char_idx=None, text_template='{metadata_str}\\n\\n{content}', metadata_template='{key}: {value}', metadata_seperator='\\n'), score=0.8690702),\n",
       " NodeWithScore(node=TextNode(id_='4f3d440a-579c-462d-8bb4-419390347539', embedding=None, metadata={'name': 'related'}, excluded_embed_metadata_keys=[], excluded_llm_metadata_keys=[], relationships={<NodeRelationship.SOURCE: '1'>: RelatedNodeInfo(node_id='64b8088d-818d-4f5f-9e75-c07a99341e71', node_type=None, metadata={'name': 'related'}, hash='1c782b6711a98b4bb128a487639ee8022be2e290502dfc8a89b3a7d338b3f4e1')}, hash='1c782b6711a98b4bb128a487639ee8022be2e290502dfc8a89b3a7d338b3f4e1', text='2前項の場合において、当社は譲り受けた債権を当社が提供する光ネットサービスの料金とみなして取り扱います。', start_char_idx=None, end_char_idx=None, text_template='{metadata_str}\\n\\n{content}', metadata_template='{key}: {value}', metadata_seperator='\\n'), score=0.86818516),\n",
       " NodeWithScore(node=TextNode(id_='9accc53d-0d8f-4906-bd04-787e273d904c', embedding=None, metadata={'name': 'related'}, excluded_embed_metadata_keys=[], excluded_llm_metadata_keys=[], relationships={<NodeRelationship.SOURCE: '1'>: RelatedNodeInfo(node_id='eac73108-11e5-437d-9a26-6d66ae279010', node_type=None, metadata={'name': 'related'}, hash='c622f909529c46c62bcb9f9fb21ce75eb932b060c30de9def6e3b05116781bf1')}, hash='c622f909529c46c62bcb9f9fb21ce75eb932b060c30de9def6e3b05116781bf1', text='4当社が別に定める光ネットサービス当社は、下記の契約約款に定める光ネットサービスを当社が別に定める光ネットサービスとして扱います。', start_char_idx=None, end_char_idx=None, text_template='{metadata_str}\\n\\n{content}', metadata_template='{key}: {value}', metadata_seperator='\\n'), score=0.86733705),\n",
       " NodeWithScore(node=TextNode(id_='1a1be15c-6147-4c4b-ad67-dfa7b4c38eb7', embedding=None, metadata={'name': 'related'}, excluded_embed_metadata_keys=[], excluded_llm_metadata_keys=[], relationships={<NodeRelationship.SOURCE: '1'>: RelatedNodeInfo(node_id='fd28199c-e3d4-48da-b3f2-bd9cd90089a1', node_type=None, metadata={'name': 'related'}, hash='9fa13b4e939351a427906ab9de6851971a3f409c0ca58bcddcfeac61e1186641')}, hash='9fa13b4e939351a427906ab9de6851971a3f409c0ca58bcddcfeac61e1186641', text='(1)光ネットサービスを提供することが技術上又は経済上著しく困難なとき。', start_char_idx=None, end_char_idx=None, text_template='{metadata_str}\\n\\n{content}', metadata_template='{key}: {value}', metadata_seperator='\\n'), score=0.86357725),\n",
       " NodeWithScore(node=TextNode(id_='5076e4fe-7055-4de8-95b7-c8f9568837f8', embedding=None, metadata={'name': 'related'}, excluded_embed_metadata_keys=[], excluded_llm_metadata_keys=[], relationships={<NodeRelationship.SOURCE: '1'>: RelatedNodeInfo(node_id='4e8c7dc7-729e-40ab-9122-6928d8d8a75a', node_type=None, metadata={'name': 'related'}, hash='7fe6aa5d56860ec8ae57c0418a959ad65af6c2a1ad1d71b6abde7d436194837c')}, hash='7fe6aa5d56860ec8ae57c0418a959ad65af6c2a1ad1d71b6abde7d436194837c', text='4光ネットサービスの品目若しくは種別等が変更された場合には、起算日時点で光ネットサービス契約者に対して提供されているサービス品目若しくは種別等に応じて定まる料金を適用して算定します。', start_char_idx=None, end_char_idx=None, text_template='{metadata_str}\\n\\n{content}', metadata_template='{key}: {value}', metadata_seperator='\\n'), score=0.86350447),\n",
       " NodeWithScore(node=TextNode(id_='47a5024a-007b-40b4-9fbe-081f7c52603e', embedding=None, metadata={'name': 'related'}, excluded_embed_metadata_keys=[], excluded_llm_metadata_keys=[], relationships={<NodeRelationship.SOURCE: '1'>: RelatedNodeInfo(node_id='45c6f465-a0e3-49f5-a11a-1b0bd406a910', node_type=None, metadata={'name': 'related'}, hash='9684f7746801af7729e865a3040a3c29d0b277dea6483550ab7c89d901d6577e')}, hash='9684f7746801af7729e865a3040a3c29d0b277dea6483550ab7c89d901d6577e', text='別記1光ネットサービスの提供区域光ネットサービスの提供区域は、次に掲げる市町村の区域のうち当社が別に定める区域とします。', start_char_idx=None, end_char_idx=None, text_template='{metadata_str}\\n\\n{content}', metadata_template='{key}: {value}', metadata_seperator='\\n'), score=0.86311215),\n",
       " NodeWithScore(node=TextNode(id_='b8debd10-f844-497c-8c92-453b694ab8bc', embedding=None, metadata={'name': 'related'}, excluded_embed_metadata_keys=[], excluded_llm_metadata_keys=[], relationships={<NodeRelationship.SOURCE: '1'>: RelatedNodeInfo(node_id='2030e7b3-a455-4f41-8e19-2b2ee2a1659e', node_type=None, metadata={'name': 'related'}, hash='8fecdd1a5a392a18ced6adac1c95c705b39eceb11d4c9c64cace91781c124284')}, hash='8fecdd1a5a392a18ced6adac1c95c705b39eceb11d4c9c64cace91781c124284', text='2前項の確認に際して、光ネットサービス契約者から請求があったときは、当社は、光ネットサービス取扱局において試験を行い、その結果を光ネットサービス契約者に通知します。', start_char_idx=None, end_char_idx=None, text_template='{metadata_str}\\n\\n{content}', metadata_template='{key}: {value}', metadata_seperator='\\n'), score=0.86297596),\n",
       " NodeWithScore(node=TextNode(id_='03d13a5a-9d9a-4615-a1fd-76ee7565aa8f', embedding=None, metadata={'name': 'related'}, excluded_embed_metadata_keys=[], excluded_llm_metadata_keys=[], relationships={<NodeRelationship.SOURCE: '1'>: RelatedNodeInfo(node_id='b179a460-f5e9-4c13-b08f-532ea7812df1', node_type=None, metadata={'name': 'related'}, hash='a8302b0f74d2ec2a172338ba4bfa4e86c330db64fe8b931aeb7a847c810a3d01')}, hash='a8302b0f74d2ec2a172338ba4bfa4e86c330db64fe8b931aeb7a847c810a3d01', text='第3章光ネットサービスの提供区域等(光ネットサービスの提供区域)第5条当社の光ネットサービスは、別記1に定める提供区域において提供します。', start_char_idx=None, end_char_idx=None, text_template='{metadata_str}\\n\\n{content}', metadata_template='{key}: {value}', metadata_seperator='\\n'), score=0.8618164)]"
      ]
     },
     "execution_count": 87,
     "metadata": {},
     "output_type": "execute_result"
    }
   ],
   "source": [
    "from llama_index.retrievers import VectorIndexRetriever\n",
    "\n",
    "retriever = VectorIndexRetriever(\n",
    "    index=index, \n",
    "    similarity_top_k=10,\n",
    ")\n",
    "retriever.retrieve(\"ビジネス光ネットサービスとは？\")"
   ]
  }
 ],
 "metadata": {
  "kernelspec": {
   "display_name": "Python 3 (ipykernel)",
   "language": "python",
   "name": "python3"
  },
  "language_info": {
   "codemirror_mode": {
    "name": "ipython",
    "version": 3
   },
   "file_extension": ".py",
   "mimetype": "text/x-python",
   "name": "python",
   "nbconvert_exporter": "python",
   "pygments_lexer": "ipython3",
   "version": "3.11.5"
  }
 },
 "nbformat": 4,
 "nbformat_minor": 5
}
