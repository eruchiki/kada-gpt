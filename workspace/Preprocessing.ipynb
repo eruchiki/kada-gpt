{
 "cells": [
  {
   "cell_type": "markdown",
   "id": "597cbc77-ebb5-4026-97e3-545ce5152291",
   "metadata": {},
   "source": [
    "# テキスト前処理"
   ]
  },
  {
   "cell_type": "code",
   "execution_count": 1,
   "id": "444e31cf-2c0d-4f65-ab7e-719d2a80daa1",
   "metadata": {},
   "outputs": [],
   "source": [
    "with open(\"pdf_to_text/pdf_to_text_0.txt\",mode=\"r\",encoding=\"utf-8\") as f:\n",
    "    text_data = f.read()"
   ]
  },
  {
   "cell_type": "code",
   "execution_count": 2,
   "id": "9126f68b-1f40-4bfb-abef-e6085b7696a0",
   "metadata": {},
   "outputs": [
    {
     "data": {
      "text/plain": [
       "'ビジネス光ネットサービス契約約款 \\n\\n２０２３年８月１日 \\n\\n株式会社  ＳＴＮｅｔ \\n\\n \\n \\n \\n \\n \\n \\n \\n \\n \\n \\n \\n \\n \\n \\n \\n \\n \\n \\n\\x0c\\n目    次 \\n\\n第１章  総  則 \\n\\n第  １条  約款の適用・・・・・・・・・・・・・・・・・・・・・・・・・・１ \\n第  ２条  約款の変更・・・・・・・・・・・・・・・・・・・・・・・・・・１ \\n第  ３条  用語の定義・・・・・・・・・・・・・・・・・・・・・・・・・・１ \\n\\n第２章  光ネットサービスの種類等 \\n\\n第  ４条  光ネットサービスの種類等・・・・・・・・・・・・・・・・・・・３ \\n\\n第３章  光ネットサービスの提供区域等 \\n\\n第  ５条  光ネットサービスの提供区域・・・・・・・・・・・・・・・・・・３ \\n第  ６条  光ネットサービスの提供範囲等・・・・・・・・・・・・・・・・・３ \\n\\n第４章  契  約 \\n\\n第  ７条  契約の単位・・・・・・・・・・・・・・・・・・・・・・・・・・３ \\n第  ８条  契約者回線の終端・・・・・・・・・・・・・・・・・・・・・・・３ \\n第  ９条  収容光ネットサービス取扱局・・・・・・・・・・・・・・・・・・３ \\n第１０条  光ネット申込みの方法・・・・・・・・・・・・・・・・・・・・・４ \\n第１１条  光ネット申込みの承諾・・・・・・・・・・・・・・・・・・・・・４ \\n第１２条  提供開始日・・・・・・・・・・・・・・・・・・・・・・・・・・４ \\n第１３条  最低利用期間・・・・・・・・・・・・・・・・・・・・・・・・・４ \\n第１４条  品目及び種別等の変更・・・・・・・・・・・・・・・・・・・・・５ \\n第１５条  契約者回線等の移転・・・・・・・・・・・・・・・・・・・・・・５ \\n第１６条  その他の契約内容の変更・・・・・・・・・・・・・・・・・・・・５ \\n第１７条  利用の一時中断・・・・・・・・・・・・・・・・・・・・・・・・５ \\n第１８条  光ネットサービス契約に基づく債権・債務の譲渡の禁止・・・・・・５ \\n第１９条  光ネットサービス契約者が行う光ネットサービス契約の解除・・・・５ \\n第２０条  当社が行う光ネットサービス契約の解除・・・・・・・・・・・・・５ \\n第２１条  契約者回線の提供ができなくなった場合の措置・・・'"
      ]
     },
     "execution_count": 2,
     "metadata": {},
     "output_type": "execute_result"
    }
   ],
   "source": [
    "text_data[:1000]"
   ]
  }
 ],
 "metadata": {
  "kernelspec": {
   "display_name": "Python 3 (ipykernel)",
   "language": "python",
   "name": "python3"
  },
  "language_info": {
   "codemirror_mode": {
    "name": "ipython",
    "version": 3
   },
   "file_extension": ".py",
   "mimetype": "text/x-python",
   "name": "python",
   "nbconvert_exporter": "python",
   "pygments_lexer": "ipython3",
   "version": "3.11.5"
  }
 },
 "nbformat": 4,
 "nbformat_minor": 5
}
