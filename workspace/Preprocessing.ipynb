{
 "cells": [
  {
   "cell_type": "markdown",
   "id": "597cbc77-ebb5-4026-97e3-545ce5152291",
   "metadata": {},
   "source": [
    "# テキスト前処理"
   ]
  },
  {
   "cell_type": "code",
   "execution_count": 27,
   "id": "e0922314-33b3-425f-a79e-b00be013960a",
   "metadata": {},
   "outputs": [],
   "source": [
    "import re\n",
    "from unicodedata import normalize"
   ]
  },
  {
   "cell_type": "code",
   "execution_count": 28,
   "id": "444e31cf-2c0d-4f65-ab7e-719d2a80daa1",
   "metadata": {},
   "outputs": [],
   "source": [
    "with open(\"pdf_to_text/pdf_to_text_0.txt\",mode=\"r\",encoding=\"utf-8\") as f:\n",
    "    text_data = f.read()\n",
    "text_data = normalize('NFKC', text_data)"
   ]
  },
  {
   "cell_type": "code",
   "execution_count": 29,
   "id": "9126f68b-1f40-4bfb-abef-e6085b7696a0",
   "metadata": {},
   "outputs": [
    {
     "data": {
      "text/plain": [
       "'ビジネス光ネットサービス契約約款 \\n\\n2023年8月1日 \\n\\n株式会社  STNet \\n\\n \\n \\n \\n \\n \\n \\n \\n \\n \\n \\n \\n \\n \\n \\n \\n \\n \\n \\n\\x0c\\n目    次 \\n\\n第1章  総  則 \\n\\n第  1条  約款の適用・・・・・・・・・・・・・・・・・・・・・・・・・・1 \\n第  2条  約款の変更・・・・・・・・・・・・・・・・・・・・・・・・・・1 \\n第  3条  用語の定義・・・・・・・・・・・・・・・・・・・・・・・・・・1 \\n\\n第2章  光ネットサービスの種類等 \\n\\n第  4条  光ネットサービスの種類等・・・・・・・・・・・・・・・・・・・3 \\n\\n第3章  光ネットサービスの提供区域等 \\n\\n第  5条  光ネットサービスの提供区域・・・・・・・・・・・・・・・・・・3 \\n第  6条  光ネットサービスの提供範囲等・・・・・・・・・・・・・・・・・3 \\n\\n第4章  契  約 \\n\\n第  7条  契約の単位・・・・・・・・・・・・・・・・・・・・・・・・・・3 \\n第  8条  契約者回線の終端・・・・・・・・・・・・・・・・・・・・・・・3 \\n第  9条  収容光ネットサービス取扱局・・・・・・・・・・・・・・・・・・3 \\n第10条  光ネット申込みの方法・・・・・・・・・・・・・・・・・・・・・4 \\n第11条  光ネット申込みの承諾・・・・・・・・・・・・・・・・・・・・・4 \\n第12条  提供開始日・・・・・・・・・・・・・・・・・・・・・・・・・・4 \\n第13条  最低利用期間・・・・・・・・・・・・・・・・・・・・・・・・・4 \\n第14条  品目及び種別等の変更・・・・・・・・・・・・・・・・・・・・・5 \\n第15条  契約者回線等の移転・・・・・・・・・・・・・・・・・・・・・・5 \\n第16条  その他の契約内容の変更・・・・・・・・・・・・・・・・・・・・5 \\n第17条  利用の一時中断・・・・・・・・・・・・・・・・・・・・・・・・5 \\n第18条  光ネットサービス契約に基づく債権・債務の譲渡の禁止・・・・・・5 \\n第19条  光ネットサービス契約者が行う光ネットサービス契約の解除・・・・5 \\n第20条  当社が行う光ネットサービス契約の解除・・・・・・・・・・・・・5 \\n第21条  契約者回線の提供ができなくなった場合の措置・・・'"
      ]
     },
     "execution_count": 29,
     "metadata": {},
     "output_type": "execute_result"
    }
   ],
   "source": [
    "text_data[:1000]"
   ]
  },
  {
   "cell_type": "code",
   "execution_count": 30,
   "id": "76459559-de21-47e8-87a9-10bd4d1c2cc3",
   "metadata": {},
   "outputs": [
    {
     "data": {
      "text/plain": [
       "5552"
      ]
     },
     "execution_count": 30,
     "metadata": {},
     "output_type": "execute_result"
    }
   ],
   "source": [
    "len(text_data.split(\"\\n\"))"
   ]
  },
  {
   "cell_type": "code",
   "execution_count": 44,
   "id": "996a3c0e-0cbd-4ff2-8060-9cbb6e018ac0",
   "metadata": {},
   "outputs": [
    {
     "data": {
      "text/plain": [
       "3454"
      ]
     },
     "execution_count": 44,
     "metadata": {},
     "output_type": "execute_result"
    }
   ],
   "source": [
    "text_list = [text.replace(\"\\u3000\",\"\").replace(\" \",\"\") for text in text_data.split(\"\\n\") if len(text) > 1]\n",
    "len(text_list)"
   ]
  },
  {
   "cell_type": "code",
   "execution_count": 45,
   "id": "f911965f-70da-4d01-86d1-a544bc251624",
   "metadata": {},
   "outputs": [
    {
     "data": {
      "text/plain": [
       "'用語'"
      ]
     },
     "execution_count": 45,
     "metadata": {},
     "output_type": "execute_result"
    }
   ],
   "source": [
    "text_list[123]"
   ]
  },
  {
   "cell_type": "code",
   "execution_count": 46,
   "id": "aa66818e-697f-48ba-92a8-74d053c85daf",
   "metadata": {},
   "outputs": [],
   "source": [
    "with open(\"pdf_to_text/pdf_to_text_0_1.txt\",mode=\"w\",encoding=\"utf-8\") as f:\n",
    "    f.write(\"\\n\".join(text_list))"
   ]
  },
  {
   "cell_type": "code",
   "execution_count": 64,
   "id": "9717a59e-8dfb-49ac-be06-c2e4616fc818",
   "metadata": {},
   "outputs": [],
   "source": [
    "pattern = \"^\\d+\"\n",
    "pattern2 = \"^第[0-9]+章\"\n",
    "pattern3 = \"^第[0-9]+条\"\n",
    "pattern4 = \"^\\(\\D+\\)\""
   ]
  },
  {
   "cell_type": "code",
   "execution_count": 66,
   "id": "a6302a1f-7e88-43b8-899b-981167852539",
   "metadata": {},
   "outputs": [],
   "source": [
    "text_list2 = []\n",
    "for text in text_list:\n",
    "    if re.fullmatch(pattern4,text) or re.fullmatch(pattern,text):\n",
    "        continue\n",
    "    elif re.match(pattern3,text):\n",
    "        text = \"\\n\"+text\n",
    "    text_list2.append(text)"
   ]
  },
  {
   "cell_type": "code",
   "execution_count": 72,
   "id": "c81e3984-fc73-47b5-85af-2e5e46c9e04e",
   "metadata": {},
   "outputs": [
    {
     "data": {
      "text/plain": [
       "126"
      ]
     },
     "execution_count": 72,
     "metadata": {},
     "output_type": "execute_result"
    }
   ],
   "source": [
    "text_data2 = \"\\n\".join(text_list2)\n",
    "len(text_data2.split(\"\\n\\n\"))"
   ]
  },
  {
   "cell_type": "code",
   "execution_count": 67,
   "id": "466b67f0-80f2-4193-be42-8899fdebc4f8",
   "metadata": {},
   "outputs": [],
   "source": [
    "with open(\"pdf_to_text/pdf_to_text_0_2.txt\",mode=\"w\",encoding=\"utf-8\") as f:\n",
    "    f.write(\"\\n\".join(text_list2))"
   ]
  },
  {
   "cell_type": "code",
   "execution_count": null,
   "id": "33ee8c0c-bce4-4f8e-b6a2-950d5f8282fe",
   "metadata": {},
   "outputs": [],
   "source": [
    "with open(\"pdf_to_text/pdf_to_text_0_2.txt\",mode=\"w\",encoding=\"utf-8\") as f:\n",
    "    f.write(\"\\n\".join(text_list2))"
   ]
  },
  {
   "cell_type": "markdown",
   "id": "5a5e08f9-1d0c-4024-924e-6f83c2e219ed",
   "metadata": {},
   "source": [
    "## node比較"
   ]
  },
  {
   "cell_type": "code",
   "execution_count": 76,
   "id": "1e291f67-074a-4519-9739-eae0b3823b8e",
   "metadata": {},
   "outputs": [
    {
     "data": {
      "text/plain": [
       "3"
      ]
     },
     "execution_count": 76,
     "metadata": {},
     "output_type": "execute_result"
    }
   ],
   "source": [
    "from llama_index import SimpleDirectoryReader\n",
    "\n",
    "documents =  SimpleDirectoryReader(\"pdf_to_text\").load_data()\n",
    "len(documents)"
   ]
  },
  {
   "cell_type": "code",
   "execution_count": 77,
   "id": "518902f5-56d7-42b6-b77b-1cab320a3fdf",
   "metadata": {},
   "outputs": [],
   "source": [
    "paragraph_separator = \"\\n\\n\" # 段落分割\n",
    "chunk_size = 1024 #チャンク（トークン）数\n",
    "chunk_overlap = 20 # 前のチャンクをどのくらい含めるか\n",
    "secondary_chunking_regex = '[^,.．;。]+[,.．;。]?'# 文分割"
   ]
  },
  {
   "cell_type": "code",
   "execution_count": 78,
   "id": "8606121b-37f7-449c-934f-93c3855e57e1",
   "metadata": {},
   "outputs": [
    {
     "data": {
      "text/plain": [
       "SimpleNodeParser(text_splitter=SentenceSplitter(chunk_size=1024, chunk_overlap=20, separator=' ', paragraph_separator='\\n\\n', secondary_chunking_regex='[^,.．;。]+[,.．;。]?', chunking_tokenizer_fn=<function sent_tokenize at 0x7f8c368fcf40>, callback_manager=<llama_index.callbacks.base.CallbackManager object at 0x7f8c6ff87e90>, tokenizer=functools.partial(<bound method Encoding.encode of <Encoding 'gpt2'>>, allowed_special='all')), include_metadata=True, include_prev_next_rel=True, metadata_extractor=None, callback_manager=<llama_index.callbacks.base.CallbackManager object at 0x7f8c35bc2650>)"
      ]
     },
     "execution_count": 78,
     "metadata": {},
     "output_type": "execute_result"
    }
   ],
   "source": [
    "from llama_index.text_splitter import SentenceSplitter\n",
    "from llama_index.node_parser import SimpleNodeParser\n",
    "from llama_index import VectorStoreIndex,ServiceContext\n",
    "import tiktoken\n",
    "\n",
    "# ノードパーサーの準備\n",
    "text_splitter = SentenceSplitter(\n",
    "    paragraph_separator=paragraph_separator,\n",
    "    secondary_chunking_regex = secondary_chunking_regex,\n",
    "    chunk_size = chunk_size,\n",
    "    chunk_overlap = chunk_overlap,\n",
    ")\n",
    "node_parser = SimpleNodeParser.from_defaults(\n",
    "    text_splitter=text_splitter\n",
    ")\n",
    "service_context = ServiceContext.from_defaults(\n",
    "    node_parser=node_parser\n",
    ")\n",
    "service_context.node_parser"
   ]
  },
  {
   "cell_type": "code",
   "execution_count": 94,
   "id": "7d8a132c-8391-4209-a130-83e4c0391b1f",
   "metadata": {},
   "outputs": [
    {
     "name": "stdout",
     "output_type": "stream",
     "text": [
      "143\n",
      "830\n",
      "id_='4502257a-9a44-4d1c-8b91-fc92039b4c55' embedding=None metadata={} excluded_embed_metadata_keys=[] excluded_llm_metadata_keys=[] relationships={<NodeRelationship.SOURCE: '1'>: RelatedNodeInfo(node_id='bbfc2718-398e-48ab-b5ac-aff291ee434c', node_type=None, metadata={}, hash='7796845c2997a442cecac82853c670bc202b233186aed912006f9c94e5fc0ec2'), <NodeRelationship.PREVIOUS: '2'>: RelatedNodeInfo(node_id='fd3091be-d4b6-4edf-a020-a5b4826effbf', node_type=None, metadata={}, hash='592115f5ed09c43d8ec26b27af80fda258dc61c656d1848a4e17c48fcfecaa61'), <NodeRelationship.NEXT: '3'>: RelatedNodeInfo(node_id='77c5828f-4604-43ec-912d-4a3e4045b12c', node_type=None, metadata={}, hash='b875d2a109837c84df71d32cb76da9b62fff297ce830a68b53be4c05d1290976')} hash='4748163ab51b548c09dd7aa1a7c1b78d347a12efe348584f3ed47aa020b1f78c' text='電気通信事業者以外の者が設置する電気通信設備であ\\nって、端末設備以外のもの \\nその契約者回線の収容される取扱局交換設備が設置さ\\nれている光ネットサービス取扱局 \\n光ネットサービス契約を継続したまま契約者回線等を\\n別の場所に移すこと（同一建物内で端末設備を移転す\\nる場合を除きます。） \\n端末設備等規則（昭和６０年郵政省令第３１号）、別表\\nに定める光ネットサービスにおける基本的な技術的事\\n項及び端末設備等の接続の技術的条件 \\n契約者回線の終端に原則として最も近い距離にある電\\n柱等 \\n契約者回線のうち、原則として契約者回線の終端に最\\nも近い距離にあるクロージャ（分岐装置）から当社が設\\n置又は提供する回線終端装置までの間の線路 \\n当社が光ネットサービスを遂行するにあたり業務提携\\nしている事業者 \\n当社と相互接続協定を締結している電気通信事業者 \\n光ネットサービス契約者がホームページを使用して光\\nネットサービス取扱局に設置する情報蓄積装置により\\n情報の蓄積又は公開等を行うこと \\nメールアドレスを利用して光ネットサービス取扱局に\\n設置する情報蓄積装置により通信の情報の蓄積又は読\\nみ出し等を行うこと' start_char_idx=None end_char_idx=None text_template='{metadata_str}\\n\\n{content}' metadata_template='{key}: {value}' metadata_seperator='\\n'\n"
     ]
    }
   ],
   "source": [
    "node_list = service_context.node_parser.get_nodes_from_documents([documents[0]])\n",
    "enc = tiktoken.get_encoding(\"gpt2\")\n",
    "print(len(node_list))\n",
    "for node in node_list[10:]:\n",
    "    print(len(enc.encode(node.text)))\n",
    "    print(node)\n",
    "    break"
   ]
  },
  {
   "cell_type": "code",
   "execution_count": 92,
   "id": "8bb0e412-66e4-496e-b7df-1455e5d3812a",
   "metadata": {},
   "outputs": [
    {
     "name": "stdout",
     "output_type": "stream",
     "text": [
      "122\n",
      "980\n",
      "2当社は、当社の設置した電気通信設備を修理又は復旧する場合のほか、技術上及び光ネ\n",
      "ットサービスに関する業務の遂行上やむを得ない理由があるときは、収容光ネットサー\n",
      "ビス取扱局を変更することがあります。\n",
      "(光ネット申込みの方法)\n",
      "第10条光ネット申込みをするときは、次に掲げる事項について、当社所定の契約申込書\n",
      "等に記載し、光ネットサービス取扱所に提出していただきます。\n",
      "(1)光ネットサービスの品目及び種別等\n",
      "(2)契約者回線の終端の場所\n",
      "(3)その他光ネット申込みの内容を特定するための事項\n",
      "(光ネット申込みの承諾)\n",
      "第11条光ネットサービス契約は、光ネット申込みに対して当社が承諾したときに成立\n",
      "します。\n",
      "2当社は、次のいずれかの場合には、その申込みを承諾しないことがあります。\n",
      "(1)光ネットサービスを提供することが技術上又は経済上著しく困難なとき。\n",
      "(2)申込者が光ネットサービスの料金又は工事に関する費用の支払いを現に怠り、又は怠\n",
      "るおそれがあると当社が判断したとき。\n",
      "(3)光ネットサービス契約の申込みをした者が、光ネットサービスの利用を停止されてい\n",
      "る、又は光ネットサービス契約の解除を受けたことがあるとき。\n",
      "(4)契約申込書に虚偽の事実を記載したことが判明したとき。\n",
      "(5)第48条(利用に係る契約者の義務)の規定に違反するおそれがあるとき。\n",
      "(6)別記21に定める提供区域別付加提供条件を満たしていないと当社が判断したとき。\n",
      "(7)その他光ネットサービスに関する当社の業務の遂行上支障があるとき、又はそのおそ\n",
      "れがあると当社が判断したとき。\n"
     ]
    }
   ],
   "source": [
    "node_list = service_context.node_parser.get_nodes_from_documents([documents[1]])\n",
    "enc = tiktoken.get_encoding(\"gpt2\")\n",
    "print(len(node_list))\n",
    "for node in node_list[10:]:\n",
    "    print(len(enc.encode(node.text)))\n",
    "    print(node.text)\n",
    "    break"
   ]
  },
  {
   "cell_type": "code",
   "execution_count": 93,
   "id": "3b592ae1-8d3f-4bea-aa9e-932e47871d1b",
   "metadata": {},
   "outputs": [
    {
     "name": "stdout",
     "output_type": "stream",
     "text": [
      "116\n",
      "883\n",
      "第10条光ネット申込みをするときは、次に掲げる事項について、当社所定の契約申込書\n",
      "等に記載し、光ネットサービス取扱所に提出していただきます。\n",
      "(1)光ネットサービスの品目及び種別等\n",
      "(2)契約者回線の終端の場所\n",
      "(3)その他光ネット申込みの内容を特定するための事項\n",
      "\n",
      "第11条光ネットサービス契約は、光ネット申込みに対して当社が承諾したときに成立\n",
      "します。\n",
      "2当社は、次のいずれかの場合には、その申込みを承諾しないことがあります。\n",
      "(1)光ネットサービスを提供することが技術上又は経済上著しく困難なとき。\n",
      "(2)申込者が光ネットサービスの料金又は工事に関する費用の支払いを現に怠り、又は怠\n",
      "るおそれがあると当社が判断したとき。\n",
      "(3)光ネットサービス契約の申込みをした者が、光ネットサービスの利用を停止されてい\n",
      "る、又は光ネットサービス契約の解除を受けたことがあるとき。\n",
      "(4)契約申込書に虚偽の事実を記載したことが判明したとき。\n",
      "(5)第48条(利用に係る契約者の義務)の規定に違反するおそれがあるとき。\n",
      "(6)別記21に定める提供区域別付加提供条件を満たしていないと当社が判断したとき。\n",
      "(7)その他光ネットサービスに関する当社の業務の遂行上支障があるとき、又はそのおそ\n",
      "れがあると当社が判断したとき。\n",
      "\n",
      "第12条光ネット申込みに基づき、当社が当該光ネットサービスの工事を完了した日を\n",
      "光ネットサービスの提供を開始した日とします。\n"
     ]
    }
   ],
   "source": [
    "node_list = service_context.node_parser.get_nodes_from_documents([documents[2]])\n",
    "enc = tiktoken.get_encoding(\"gpt2\")\n",
    "print(len(node_list))\n",
    "for node in node_list[10:]:\n",
    "    print(len(enc.encode(node.text)))\n",
    "    print(node.text)\n",
    "    break"
   ]
  }
 ],
 "metadata": {
  "kernelspec": {
   "display_name": "Python 3 (ipykernel)",
   "language": "python",
   "name": "python3"
  },
  "language_info": {
   "codemirror_mode": {
    "name": "ipython",
    "version": 3
   },
   "file_extension": ".py",
   "mimetype": "text/x-python",
   "name": "python",
   "nbconvert_exporter": "python",
   "pygments_lexer": "ipython3",
   "version": "3.11.5"
  }
 },
 "nbformat": 4,
 "nbformat_minor": 5
}
