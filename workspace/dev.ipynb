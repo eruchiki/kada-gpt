{
 "cells": [
  {
   "cell_type": "markdown",
   "id": "67019a11-b40a-486c-9046-adb2b547fae3",
   "metadata": {},
   "source": [
    "# LangChainを試す"
   ]
  },
  {
   "cell_type": "markdown",
   "id": "b8293113-4ce5-4b32-86d5-e3d41e423e36",
   "metadata": {},
   "source": [
    "## 基本的な生成"
   ]
  },
  {
   "cell_type": "code",
   "execution_count": 2,
   "id": "5b6fc7fa-3422-497c-b426-714c62751414",
   "metadata": {},
   "outputs": [
    {
     "name": "stdout",
     "output_type": "stream",
     "text": [
      "「かがわうどん」が香川県で一番おいしいと評判のうどん屋です。\n"
     ]
    }
   ],
   "source": [
    "from langchain.llms import OpenAI\n",
    "\n",
    "# LLM ラッパーを初期化\n",
    "llm = OpenAI(temperature=0.7)\n",
    "\n",
    "# LLM に渡す入力テキスト\n",
    "text = \"香川県で一番おいしいうどん屋は？\"\n",
    "\n",
    "# LLM から予測を受け取って表示\n",
    "prediction = llm(text)\n",
    "print(prediction.strip())"
   ]
  },
  {
   "cell_type": "markdown",
   "id": "f36e590a-08b6-460c-a034-5fce82b61b6c",
   "metadata": {},
   "source": [
    "## プロンプトテンプレート作成"
   ]
  },
  {
   "cell_type": "code",
   "execution_count": 7,
   "id": "67aed992-1b01-4378-883e-8f7dd5683037",
   "metadata": {},
   "outputs": [
    {
     "name": "stdout",
     "output_type": "stream",
     "text": [
      "旅行の情報を共有するためのSNSアプリに名前を付けたいのですがどのような名前がいいですか？\n",
      "・Traveller's Note\n",
      "・TripShare\n",
      "・JourneyLink\n",
      "・TripFolio\n",
      "・Travelingogue\n",
      "・VoyageFlux\n",
      "・RoamingSphere\n",
      "・MyTripLog\n",
      "・VoyageVibe\n",
      "・TripTrack\n"
     ]
    }
   ],
   "source": [
    "from langchain.prompts import PromptTemplate\n",
    "from langchain.chains import LLMChain\n",
    "\n",
    "# プロンプトテンプレートの作成\n",
    "llm = OpenAI(temperature=0.7)\n",
    "# 複数変数埋め込みも可\n",
    "prompt = PromptTemplate(\n",
    "    input_variables=[\"app_content\"],\n",
    "    template=\"{app_content}に名前を付けたいのですがどのような名前がいいですか？\",\n",
    ")\n",
    "\n",
    "# テンプレートからプロンプトを作成\n",
    "app_content = \"旅行の情報を共有するためのSNSアプリ\"\n",
    "mid_prompt = prompt.format(app_content=app_content)\n",
    "print(mid_prompt)\n",
    "chain = LLMChain(llm=llm, prompt=prompt)\n",
    "prediction = chain.run(app_content=app_content)\n",
    "print(prediction.strip())"
   ]
  },
  {
   "cell_type": "code",
   "execution_count": 9,
   "id": "a6212a2e-3e9a-4df3-9729-7cd763074a11",
   "metadata": {},
   "outputs": [
    {
     "name": "stdout",
     "output_type": "stream",
     "text": [
      "。\n",
      "\n",
      "旅どころ（たびどころ）\n"
     ]
    }
   ],
   "source": [
    "# 複数変数埋め込みも可\n",
    "prompt = PromptTemplate(\n",
    "    input_variables=[\"app_content\",\"request\"],\n",
    "    template=\"{app_content}に名前を付けたいのですがどのような名前がいいですか？{request}\",\n",
    ")\n",
    "\n",
    "# テンプレートからプロンプトを作成\n",
    "app_content = \"旅行の情報を共有するためのSNSアプリ\"\n",
    "request = \"日本語でお願いします\"\n",
    "mid_prompt = prompt.format(app_content=app_content,request=request)\n",
    "chain = LLMChain(llm=llm, prompt=prompt)\n",
    "prediction = chain.run(app_content=app_content,request=request)\n",
    "print(prediction.strip())"
   ]
  }
 ],
 "metadata": {
  "kernelspec": {
   "display_name": "Python 3 (ipykernel)",
   "language": "python",
   "name": "python3"
  },
  "language_info": {
   "codemirror_mode": {
    "name": "ipython",
    "version": 3
   },
   "file_extension": ".py",
   "mimetype": "text/x-python",
   "name": "python",
   "nbconvert_exporter": "python",
   "pygments_lexer": "ipython3",
   "version": "3.11.5"
  }
 },
 "nbformat": 4,
 "nbformat_minor": 5
}
