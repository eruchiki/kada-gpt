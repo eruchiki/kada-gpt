{
 "cells": [
  {
   "cell_type": "code",
   "execution_count": null,
   "id": "324dd341-5af0-4a73-b3c6-1b2e789c5168",
   "metadata": {},
   "outputs": [
    {
     "ename": "",
     "evalue": "",
     "output_type": "error",
     "traceback": [
      "\u001b[1;31m'/usr/bin/python3' でセルを実行するには、 ipykernel パッケージが必要です。\n",
      "\u001b[1;31mRun the following command to install 'ipykernel' into the Python environment. \n",
      "\u001b[1;31mCommand: '/usr/bin/python3 -m pip install ipykernel -U --user --force-reinstall'"
     ]
    }
   ],
   "source": [
    "!pip list"
   ]
  },
  {
   "cell_type": "code",
   "execution_count": 3,
   "id": "ea845580-3b54-432a-9eb5-12c32a079110",
   "metadata": {},
   "outputs": [
    {
     "name": "stdout",
     "output_type": "stream",
     "text": [
      "JupyterLab v4.0.5\n",
      "/usr/local/share/jupyter/labextensions\n",
      "        jupyterlab_pygments v0.2.2 \u001b[32menabled\u001b[0m \u001b[31m X\u001b[0m (python, jupyterlab_pygments)\n",
      "        jupyterlab_code_formatter v2.2.1 \u001b[32menabled\u001b[0m \u001b[31m X\u001b[0m (python, jupyterlab_code_formatter)\n",
      "        nbdime-jupyterlab v2.2.0 \u001b[32menabled\u001b[0m \u001b[31m X\u001b[0m\n",
      "        @jupyter-widgets/jupyterlab-manager v5.0.8 \u001b[32menabled\u001b[0m \u001b[32mOK\u001b[0m (python, jupyterlab_widgets)\n",
      "        @jupyterlab/git v0.42.0 \u001b[32menabled\u001b[0m \u001b[31m X\u001b[0m (python, jupyterlab-git)\n",
      "\n",
      "\n",
      "   The following extensions are outdated:\n",
      "        jupyterlab_pygments\n",
      "        jupyterlab_code_formatter\n",
      "        nbdime-jupyterlab\n",
      "        @jupyterlab/git\n",
      "        \n",
      "   Consider checking if an update is available for these packages.\n",
      "\n",
      "Other labextensions (built into JupyterLab)\n",
      "   app dir: /usr/local/share/jupyter/lab\n",
      "\n"
     ]
    }
   ],
   "source": [
    "!jupyter labextension list"
   ]
  },
  {
   "cell_type": "code",
   "execution_count": null,
   "id": "929653de-a24e-494f-8b21-2278647748d1",
   "metadata": {},
   "outputs": [],
   "source": []
  }
 ],
 "metadata": {
  "kernelspec": {
   "display_name": "Python 3 (ipykernel)",
   "language": "python",
   "name": "python3"
  },
  "language_info": {
   "codemirror_mode": {
    "name": "ipython",
    "version": 3
   },
   "file_extension": ".py",
   "mimetype": "text/x-python",
   "name": "python",
   "nbconvert_exporter": "python",
   "pygments_lexer": "ipython3",
   "version": "3.11.2"
  }
 },
 "nbformat": 4,
 "nbformat_minor": 5
}
